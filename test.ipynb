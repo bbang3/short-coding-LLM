{
 "cells": [
  {
   "cell_type": "code",
   "execution_count": 1,
   "metadata": {},
   "outputs": [],
   "source": [
    "from getpass import getpass\n",
    "import os\n",
    "\n",
    "REPLICATE_API_TOKEN = getpass()\n",
    "os.environ['REPLICATE_API_TOKEN'] = REPLICATE_API_TOKEN"
   ]
  },
  {
   "cell_type": "code",
   "execution_count": 22,
   "metadata": {},
   "outputs": [
    {
     "ename": "ReplicateError",
     "evalue": "You did not pass an authentication token",
     "output_type": "error",
     "traceback": [
      "\u001b[0;31m---------------------------------------------------------------------------\u001b[0m",
      "\u001b[0;31mReplicateError\u001b[0m                            Traceback (most recent call last)",
      "\u001b[1;32m/Users/sangmin/Desktop/Dev/Korea_Univ/short-coding-LLM/test.ipynb Cell 2\u001b[0m line \u001b[0;36m3\n\u001b[1;32m      <a href='vscode-notebook-cell:/Users/sangmin/Desktop/Dev/Korea_Univ/short-coding-LLM/test.ipynb#W0sZmlsZQ%3D%3D?line=0'>1</a>\u001b[0m \u001b[39mimport\u001b[39;00m \u001b[39mreplicate\u001b[39;00m\n\u001b[0;32m----> <a href='vscode-notebook-cell:/Users/sangmin/Desktop/Dev/Korea_Univ/short-coding-LLM/test.ipynb#W0sZmlsZQ%3D%3D?line=2'>3</a>\u001b[0m output \u001b[39m=\u001b[39m replicate\u001b[39m.\u001b[39mrun(\n\u001b[1;32m      <a href='vscode-notebook-cell:/Users/sangmin/Desktop/Dev/Korea_Univ/short-coding-LLM/test.ipynb#W0sZmlsZQ%3D%3D?line=3'>4</a>\u001b[0m     \u001b[39m\"\u001b[39m\u001b[39mmeta/llama-2-70b-chat:02e509c789964a7ea8736978a43525956ef40397be9033abf9fd2badfe68c9e3\u001b[39m\u001b[39m\"\u001b[39m,\n\u001b[1;32m      <a href='vscode-notebook-cell:/Users/sangmin/Desktop/Dev/Korea_Univ/short-coding-LLM/test.ipynb#W0sZmlsZQ%3D%3D?line=4'>5</a>\u001b[0m     \u001b[39minput\u001b[39m\u001b[39m=\u001b[39m{\u001b[39m\"\u001b[39m\u001b[39mprompt\u001b[39m\u001b[39m\"\u001b[39m: \u001b[39m\"\u001b[39m\u001b[39mCan you write a poem about open source machine learning? Let\u001b[39m\u001b[39m'\u001b[39m\u001b[39ms make it in the style of E. E. Cummings.\u001b[39m\u001b[39m\"\u001b[39m},\n\u001b[1;32m      <a href='vscode-notebook-cell:/Users/sangmin/Desktop/Dev/Korea_Univ/short-coding-LLM/test.ipynb#W0sZmlsZQ%3D%3D?line=5'>6</a>\u001b[0m )\n",
      "File \u001b[0;32m~/anaconda3/lib/python3.11/site-packages/replicate/client.py:147\u001b[0m, in \u001b[0;36mClient.run\u001b[0;34m(self, ref, input, **params)\u001b[0m\n\u001b[1;32m    137\u001b[0m \u001b[39mdef\u001b[39;00m \u001b[39mrun\u001b[39m(\n\u001b[1;32m    138\u001b[0m     \u001b[39mself\u001b[39m,\n\u001b[1;32m    139\u001b[0m     ref: \u001b[39mstr\u001b[39m,\n\u001b[1;32m    140\u001b[0m     \u001b[39minput\u001b[39m: Optional[Dict[\u001b[39mstr\u001b[39m, Any]] \u001b[39m=\u001b[39m \u001b[39mNone\u001b[39;00m,\n\u001b[1;32m    141\u001b[0m     \u001b[39m*\u001b[39m\u001b[39m*\u001b[39mparams: Unpack[\u001b[39m\"\u001b[39m\u001b[39mPredictions.CreatePredictionParams\u001b[39m\u001b[39m\"\u001b[39m],\n\u001b[1;32m    142\u001b[0m ) \u001b[39m-\u001b[39m\u001b[39m>\u001b[39m Union[Any, Iterator[Any]]:  \u001b[39m# noqa: ANN401\u001b[39;00m\n\u001b[1;32m    143\u001b[0m \u001b[39m    \u001b[39m\u001b[39m\"\"\"\u001b[39;00m\n\u001b[1;32m    144\u001b[0m \u001b[39m    Run a model and wait for its output.\u001b[39;00m\n\u001b[1;32m    145\u001b[0m \u001b[39m    \"\"\"\u001b[39;00m\n\u001b[0;32m--> 147\u001b[0m     \u001b[39mreturn\u001b[39;00m run(\u001b[39mself\u001b[39m, ref, \u001b[39minput\u001b[39m, \u001b[39m*\u001b[39m\u001b[39m*\u001b[39mparams)\n",
      "File \u001b[0;32m~/anaconda3/lib/python3.11/site-packages/replicate/run.py:28\u001b[0m, in \u001b[0;36mrun\u001b[0;34m(client, ref, input, **params)\u001b[0m\n\u001b[1;32m     22\u001b[0m \u001b[39m\u001b[39m\u001b[39m\"\"\"\u001b[39;00m\n\u001b[1;32m     23\u001b[0m \u001b[39mRun a model and wait for its output.\u001b[39;00m\n\u001b[1;32m     24\u001b[0m \u001b[39m\"\"\"\u001b[39;00m\n\u001b[1;32m     26\u001b[0m owner, name, version_id \u001b[39m=\u001b[39m ModelVersionIdentifier\u001b[39m.\u001b[39mparse(ref)\n\u001b[0;32m---> 28\u001b[0m prediction \u001b[39m=\u001b[39m client\u001b[39m.\u001b[39mpredictions\u001b[39m.\u001b[39mcreate(\n\u001b[1;32m     29\u001b[0m     version\u001b[39m=\u001b[39mversion_id, \u001b[39minput\u001b[39m\u001b[39m=\u001b[39m\u001b[39minput\u001b[39m \u001b[39mor\u001b[39;00m {}, \u001b[39m*\u001b[39m\u001b[39m*\u001b[39mparams\n\u001b[1;32m     30\u001b[0m )\n\u001b[1;32m     32\u001b[0m \u001b[39mif\u001b[39;00m owner \u001b[39mand\u001b[39;00m name:\n\u001b[1;32m     33\u001b[0m     version \u001b[39m=\u001b[39m Versions(client, model\u001b[39m=\u001b[39m(owner, name))\u001b[39m.\u001b[39mget(version_id)\n",
      "File \u001b[0;32m~/anaconda3/lib/python3.11/site-packages/replicate/prediction.py:288\u001b[0m, in \u001b[0;36mPredictions.create\u001b[0;34m(self, version, input, **params)\u001b[0m\n\u001b[1;32m    279\u001b[0m \u001b[39m\u001b[39m\u001b[39m\"\"\"\u001b[39;00m\n\u001b[1;32m    280\u001b[0m \u001b[39mCreate a new prediction for the specified model version.\u001b[39;00m\n\u001b[1;32m    281\u001b[0m \u001b[39m\"\"\"\u001b[39;00m\n\u001b[1;32m    283\u001b[0m body \u001b[39m=\u001b[39m _create_prediction_body(\n\u001b[1;32m    284\u001b[0m     version,\n\u001b[1;32m    285\u001b[0m     \u001b[39minput\u001b[39m,\n\u001b[1;32m    286\u001b[0m     \u001b[39m*\u001b[39m\u001b[39m*\u001b[39mparams,\n\u001b[1;32m    287\u001b[0m )\n\u001b[0;32m--> 288\u001b[0m resp \u001b[39m=\u001b[39m \u001b[39mself\u001b[39m\u001b[39m.\u001b[39m_client\u001b[39m.\u001b[39m_request(\n\u001b[1;32m    289\u001b[0m     \u001b[39m\"\u001b[39m\u001b[39mPOST\u001b[39m\u001b[39m\"\u001b[39m,\n\u001b[1;32m    290\u001b[0m     \u001b[39m\"\u001b[39m\u001b[39m/v1/predictions\u001b[39m\u001b[39m\"\u001b[39m,\n\u001b[1;32m    291\u001b[0m     json\u001b[39m=\u001b[39mbody,\n\u001b[1;32m    292\u001b[0m )\n\u001b[1;32m    294\u001b[0m \u001b[39mreturn\u001b[39;00m _json_to_prediction(\u001b[39mself\u001b[39m\u001b[39m.\u001b[39m_client, resp\u001b[39m.\u001b[39mjson())\n",
      "File \u001b[0;32m~/anaconda3/lib/python3.11/site-packages/replicate/client.py:85\u001b[0m, in \u001b[0;36mClient._request\u001b[0;34m(self, method, path, **kwargs)\u001b[0m\n\u001b[1;32m     83\u001b[0m \u001b[39mdef\u001b[39;00m \u001b[39m_request\u001b[39m(\u001b[39mself\u001b[39m, method: \u001b[39mstr\u001b[39m, path: \u001b[39mstr\u001b[39m, \u001b[39m*\u001b[39m\u001b[39m*\u001b[39mkwargs) \u001b[39m-\u001b[39m\u001b[39m>\u001b[39m httpx\u001b[39m.\u001b[39mResponse:\n\u001b[1;32m     84\u001b[0m     resp \u001b[39m=\u001b[39m \u001b[39mself\u001b[39m\u001b[39m.\u001b[39m_client\u001b[39m.\u001b[39mrequest(method, path, \u001b[39m*\u001b[39m\u001b[39m*\u001b[39mkwargs)\n\u001b[0;32m---> 85\u001b[0m     _raise_for_status(resp)\n\u001b[1;32m     87\u001b[0m     \u001b[39mreturn\u001b[39;00m resp\n",
      "File \u001b[0;32m~/anaconda3/lib/python3.11/site-packages/replicate/client.py:358\u001b[0m, in \u001b[0;36m_raise_for_status\u001b[0;34m(resp)\u001b[0m\n\u001b[1;32m    356\u001b[0m \u001b[39mdef\u001b[39;00m \u001b[39m_raise_for_status\u001b[39m(resp: httpx\u001b[39m.\u001b[39mResponse) \u001b[39m-\u001b[39m\u001b[39m>\u001b[39m \u001b[39mNone\u001b[39;00m:\n\u001b[1;32m    357\u001b[0m     \u001b[39mif\u001b[39;00m \u001b[39m400\u001b[39m \u001b[39m<\u001b[39m\u001b[39m=\u001b[39m resp\u001b[39m.\u001b[39mstatus_code \u001b[39m<\u001b[39m \u001b[39m600\u001b[39m:\n\u001b[0;32m--> 358\u001b[0m         \u001b[39mraise\u001b[39;00m ReplicateError(resp\u001b[39m.\u001b[39mjson()[\u001b[39m\"\u001b[39m\u001b[39mdetail\u001b[39m\u001b[39m\"\u001b[39m])\n",
      "\u001b[0;31mReplicateError\u001b[0m: You did not pass an authentication token"
     ]
    }
   ],
   "source": [
    "import replicate\n",
    "\n",
    "output = replicate.run(\n",
    "    \"meta/llama-2-70b-chat:02e509c789964a7ea8736978a43525956ef40397be9033abf9fd2badfe68c9e3\",\n",
    "    input={\"prompt\": \"Can you write a poem about open source machine learning? Let's make it in the style of E. E. Cummings.\"},\n",
    ")\n",
    "# The meta/llama-2-70b-chat model can stream output as it's running.\n",
    "# The predict method returns an iterator, and you can iterate over that output."
   ]
  },
  {
   "cell_type": "code",
   "execution_count": 25,
   "metadata": {},
   "outputs": [
    {
     "name": "stderr",
     "output_type": "stream",
     "text": [
      "Found cached dataset openai_humaneval (/Users/sangmin/.cache/huggingface/datasets/openai_humaneval/openai_humaneval/1.0.0/2955cebd73602e828fa8c0a424c594e5fab4ec863b316ca98f3d8fdb6a626e75)\n"
     ]
    }
   ],
   "source": [
    "from datasets import load_dataset\n",
    "\n",
    "dataset = load_dataset(\"openai_humaneval\", split=\"test\")"
   ]
  },
  {
   "cell_type": "code",
   "execution_count": 20,
   "metadata": {},
   "outputs": [
    {
     "data": {
      "application/vnd.jupyter.widget-view+json": {
       "model_id": "e0849e91bb914754a8e5c2c187456708",
       "version_major": 2,
       "version_minor": 0
      },
      "text/plain": [
       "Creating json from Arrow format:   0%|          | 0/1 [00:00<?, ?ba/s]"
      ]
     },
     "metadata": {},
     "output_type": "display_data"
    },
    {
     "data": {
      "text/plain": [
       "213205"
      ]
     },
     "execution_count": 20,
     "metadata": {},
     "output_type": "execute_result"
    }
   ],
   "source": [
    "dataset.to_json(\"dataset.json\", orient=\"records\", lines=True)"
   ]
  },
  {
   "cell_type": "code",
   "execution_count": 3,
   "metadata": {},
   "outputs": [
    {
     "ename": "NameError",
     "evalue": "name 'load_dataset' is not defined",
     "output_type": "error",
     "traceback": [
      "\u001b[0;31m---------------------------------------------------------------------------\u001b[0m",
      "\u001b[0;31mNameError\u001b[0m                                 Traceback (most recent call last)",
      "\u001b[1;32m/Users/sangmin/Desktop/Dev/Korea_Univ/short-coding-LLM/test.ipynb Cell 5\u001b[0m line \u001b[0;36m1\n\u001b[0;32m----> <a href='vscode-notebook-cell:/Users/sangmin/Desktop/Dev/Korea_Univ/short-coding-LLM/test.ipynb#W4sZmlsZQ%3D%3D?line=0'>1</a>\u001b[0m dataset \u001b[39m=\u001b[39m load_dataset(\u001b[39m\"\u001b[39m\u001b[39mjson\u001b[39m\u001b[39m\"\u001b[39m, data_files\u001b[39m=\u001b[39m\u001b[39m\"\u001b[39m\u001b[39mdataset.json\u001b[39m\u001b[39m\"\u001b[39m, split\u001b[39m=\u001b[39m\u001b[39m\"\u001b[39m\u001b[39mtrain\u001b[39m\u001b[39m\"\u001b[39m)\n\u001b[1;32m      <a href='vscode-notebook-cell:/Users/sangmin/Desktop/Dev/Korea_Univ/short-coding-LLM/test.ipynb#W4sZmlsZQ%3D%3D?line=1'>2</a>\u001b[0m dataset\n",
      "\u001b[0;31mNameError\u001b[0m: name 'load_dataset' is not defined"
     ]
    }
   ],
   "source": [
    "dataset = load_dataset(\"json\", data_files=\"dataset.json\", split=\"train\")\n",
    "dataset"
   ]
  },
  {
   "cell_type": "code",
   "execution_count": 31,
   "metadata": {},
   "outputs": [
    {
     "name": "stdout",
     "output_type": "stream",
     "text": [
      "Downloading and preparing dataset json/default to /Users/sangmin/.cache/huggingface/datasets/json/default-8fc8713e43e09ef5/0.0.0/e347ab1c932092252e717ff3f949105a4dd28b27e842dd53157d2f72e276c2e4...\n"
     ]
    },
    {
     "data": {
      "application/vnd.jupyter.widget-view+json": {
       "model_id": "2c42889d315c4c5491e2b7733b198d0d",
       "version_major": 2,
       "version_minor": 0
      },
      "text/plain": [
       "Downloading data files:   0%|          | 0/1 [00:00<?, ?it/s]"
      ]
     },
     "metadata": {},
     "output_type": "display_data"
    },
    {
     "data": {
      "application/vnd.jupyter.widget-view+json": {
       "model_id": "5925458172d44fa5bd7f3e0974be2bea",
       "version_major": 2,
       "version_minor": 0
      },
      "text/plain": [
       "Extracting data files:   0%|          | 0/1 [00:00<?, ?it/s]"
      ]
     },
     "metadata": {},
     "output_type": "display_data"
    },
    {
     "data": {
      "application/vnd.jupyter.widget-view+json": {
       "model_id": "87fd96bc3f4c4273ab05b9b30b123350",
       "version_major": 2,
       "version_minor": 0
      },
      "text/plain": [
       "Generating train split: 0 examples [00:00, ? examples/s]"
      ]
     },
     "metadata": {},
     "output_type": "display_data"
    },
    {
     "name": "stdout",
     "output_type": "stream",
     "text": [
      "Dataset json downloaded and prepared to /Users/sangmin/.cache/huggingface/datasets/json/default-8fc8713e43e09ef5/0.0.0/e347ab1c932092252e717ff3f949105a4dd28b27e842dd53157d2f72e276c2e4. Subsequent calls will reuse this data.\n"
     ]
    }
   ],
   "source": [
    "predictions = load_dataset(\"json\", data_files=\"pass@k_eval/predictions/predictions_instruct_baseline.jsonl\", split=\"train\")"
   ]
  },
  {
   "cell_type": "code",
   "execution_count": 1,
   "metadata": {},
   "outputs": [
    {
     "ename": "NameError",
     "evalue": "name 'predictions' is not defined",
     "output_type": "error",
     "traceback": [
      "\u001b[0;31m---------------------------------------------------------------------------\u001b[0m",
      "\u001b[0;31mNameError\u001b[0m                                 Traceback (most recent call last)",
      "\u001b[1;32m/Users/sangmin/Desktop/Dev/Korea_Univ/short-coding-LLM/test.ipynb Cell 7\u001b[0m line \u001b[0;36m1\n\u001b[0;32m----> <a href='vscode-notebook-cell:/Users/sangmin/Desktop/Dev/Korea_Univ/short-coding-LLM/test.ipynb#W6sZmlsZQ%3D%3D?line=0'>1</a>\u001b[0m \u001b[39mprint\u001b[39m(predictions[\u001b[39m0\u001b[39m][\u001b[39m\"\u001b[39m\u001b[39mcompletion\u001b[39m\u001b[39m\"\u001b[39m])\n",
      "\u001b[0;31mNameError\u001b[0m: name 'predictions' is not defined"
     ]
    }
   ],
   "source": [
    "print(predictions[0][\"completion\"])"
   ]
  },
  {
   "cell_type": "code",
   "execution_count": 2,
   "metadata": {},
   "outputs": [
    {
     "ename": "NameError",
     "evalue": "name 'dataset' is not defined",
     "output_type": "error",
     "traceback": [
      "\u001b[0;31m---------------------------------------------------------------------------\u001b[0m",
      "\u001b[0;31mNameError\u001b[0m                                 Traceback (most recent call last)",
      "\u001b[1;32m/Users/sangmin/Desktop/Dev/Korea_Univ/short-coding-LLM/test.ipynb Cell 8\u001b[0m line \u001b[0;36m1\n\u001b[0;32m----> <a href='vscode-notebook-cell:/Users/sangmin/Desktop/Dev/Korea_Univ/short-coding-LLM/test.ipynb#X10sZmlsZQ%3D%3D?line=0'>1</a>\u001b[0m \u001b[39mprint\u001b[39m(dataset[\u001b[39m0\u001b[39m][\u001b[39m\"\u001b[39m\u001b[39mprompt\u001b[39m\u001b[39m\"\u001b[39m])\n",
      "\u001b[0;31mNameError\u001b[0m: name 'dataset' is not defined"
     ]
    }
   ],
   "source": [
    "print(dataset[0][\"prompt\"])"
   ]
  },
  {
   "cell_type": "code",
   "execution_count": 35,
   "metadata": {},
   "outputs": [],
   "source": [
    "from typing import List\n",
    "def parse_nested_parens(paren_string: str) -> List[int]:\n",
    "    \"\"\"\n",
    "    Input to this function is a string represented multiple groups for nested parentheses separated by spaces.\n",
    "    For each of the group, output the deepest level of nesting of parentheses.\n",
    "    E.g. (()()) has maximum two levels of nesting while ((())) has three.\n",
    "    >>> parse_nested_parens('(()()) ((())) () ((())()())')\n",
    "    [2, 3, 1, 3]\n",
    "    \"\"\"\n",
    "    def parse_parens(s: str) -> int:\n",
    "        level = 0\n",
    "        max_level = 0\n",
    "        for c in s:\n",
    "            if c == '(':\n",
    "                level += 1\n",
    "                max_level = max(max_level, level)\n",
    "            elif c == ')':\n",
    "                level -= 1\n",
    "        return max_level\n",
    "\n",
    "    return [parse_parens(s) for s in paren_string.split()]"
   ]
  },
  {
   "cell_type": "code",
   "execution_count": 38,
   "metadata": {},
   "outputs": [],
   "source": [
    "def check(candidate):\n",
    "    assert candidate('(()()) ((())) () ((())()())') == [2, 3, 1, 3]\n",
    "    assert candidate('() (()) ((())) (((())))') == [1, 2, 3, 4]\n",
    "    assert candidate('(()(())((())))') == [4]\n",
    "\n",
    "check(parse_nested_parens)"
   ]
  },
  {
   "cell_type": "code",
   "execution_count": 3,
   "metadata": {},
   "outputs": [
    {
     "data": {
      "text/plain": [
       "Dataset({\n",
       "    features: ['task_id', 'prompt', 'canonical_solution', 'test', 'entry_point'],\n",
       "    num_rows: 164\n",
       "})"
      ]
     },
     "execution_count": 3,
     "metadata": {},
     "output_type": "execute_result"
    }
   ],
   "source": [
    "dataset"
   ]
  },
  {
   "cell_type": "code",
   "execution_count": 4,
   "metadata": {},
   "outputs": [
    {
     "data": {
      "text/plain": [
       "Dataset({\n",
       "    features: ['task_id', 'prompt', 'canonical_solution', 'test', 'entry_point'],\n",
       "    num_rows: 164\n",
       "})"
      ]
     },
     "execution_count": 4,
     "metadata": {},
     "output_type": "execute_result"
    }
   ],
   "source": [
    "for item in dataset:\n",
    "    item[\"completion\"] = \"Hi\"\n",
    "\n",
    "dataset"
   ]
  },
  {
   "cell_type": "code",
   "execution_count": 39,
   "metadata": {},
   "outputs": [],
   "source": [
    "# Convert dataset to jsonlines\n",
    "\n",
    "import jsonlines\n",
    "\n",
    "with jsonlines.open(\"dataset.jsonl\", mode=\"w\") as writer:\n",
    "    for i in range(len(dataset)):\n",
    "        writer.write({\"prompt\": dataset[i][\"prompt\"], \"task_id\": dataset[i][\"task_id\"]})"
   ]
  },
  {
   "cell_type": "code",
   "execution_count": 52,
   "metadata": {},
   "outputs": [
    {
     "data": {
      "text/plain": [
       "[{'task_id': 'HumanEval/0',\n",
       "  'completion': '    return (\\n        len(\\n            [\\n                1\\n                for idx, num in enumerate(numbers)\\n                if any([abs(num - other_num) < threshold for other_num in numbers[:idx]])\\n            ]\\n        )\\n        > 0\\n    )\\n\\n\\nif __name__ == \"__main__\":\\n    print(has_close_elements([1.0, 2.0, 3.0], 0.5))\\n'},\n",
       " {'task_id': 'HumanEval/1', 'completion': '    return paren_string\\n'},\n",
       " {'task_id': 'HumanEval/2', 'completion': '    return number - int(number)\\n'},\n",
       " {'task_id': 'HumanEval/3',\n",
       "  'completion': '\\n    balance = 0\\n\\n    for operation in operations:\\n        if type(operation) is not int:\\n            raise ValueError(\"unsupported operation\")\\n        balance += operation\\n        if balance < 0:\\n            return True\\n    return False\\n\\n\\nif __name__ == \"__main__\":\\n    import doctest\\n\\n    doctest.testmod()\\n'},\n",
       " {'task_id': 'HumanEval/4',\n",
       "  'completion': '    avg = sum(numbers) / len(numbers)\\n    return sum(abs(x - avg) for x in numbers) / len(numbers)\\n\\n\\nif __name__ == \"__main__\":\\n    import doctest\\n\\n    doctest.testmod()\\n'},\n",
       " {'task_id': 'HumanEval/5',\n",
       "  'completion': '    result = []\\n    # Handle the case when list is empty\\n    if numbers == []:\\n        return numbers\\n    for index in range(len(numbers)):\\n        result.append(numbers[index])\\n        if index != len(numbers) - 1:\\n            result.append(delimeter)\\n    return result\\n\\n\\nif __name__ == \"main\":\\n    intersperse([], 4)'},\n",
       " {'task_id': 'HumanEval/6',\n",
       "  'completion': \"    max_nestings = []\\n    for paren_group in paren_string.split():\\n        left_count, max_left_count, max_right_count = 0, 0, 0\\n        for p in paren_group:\\n            if p == '(':\\n                left_count += 1\\n                if left_count > max_left_count:\\n                    max_left_count = left_count\\n            else:\\n                if left_count != 0 and left_count > max_right_count:\\n                    max_right_count = left_count\\n                left_count -= 1\\n        max_nestings.append(max(max_left_count, max_right_count))\\n    return max_nestings\\n\"},\n",
       " {'task_id': 'HumanEval/7',\n",
       "  'completion': '    return list(filter(lambda string: substring in string, strings))\\n\\n\\ndef filter_by_length(strings: List[str], length: int) -> List[str]:\\n    \"\"\" Filter an input list of strings only for ones that are at least as long as given length\\n    >>> filter_by_length([], 2)\\n    []\\n    >>> filter_by_length([\\'abc\\', \\'bacd\\', \\'cde\\', \\'array\\'], 3)\\n    [\\'abc\\', \\'bacd\\', \\'cde\\']\\n    \"\"\"\\n    return list(filter(lambda string: len(string) >= length, strings))\\n\\n\\ndef filter_by_substring_len(strings: List[str], substring: str, min_length: int) -> List[str]:\\n    \"\"\" Filter an input list of strings only for ones that contain given substring and are at least as long as given length\\n    >>> filter_by_substring([], \\'a\\', 2)\\n    []\\n    >>> filter_by_substring([\\'abc\\', \\'bacd\\', \\'cde\\', \\'array\\'], \\'a\\', 3)\\n    [\\'bacd\\', \\'array\\']\\n    \"\"\"\\n    return list(filter(lambda string: substring in string and len(string) >= min_length, strings))\\n'},\n",
       " {'task_id': 'HumanEval/8',\n",
       "  'completion': '    if len(numbers) == 0:\\n        return 0, 1\\n    else:\\n        return sum(numbers), int(reduce(lambda x, y: x * y, numbers))\\n\\n\\ndef sum_product2(nums: List[int]) -> Tuple[int, int]:\\n    \"\"\" For a given list of integers, return a tuple consisting of a sum and a product of all the integers in a list.\\n    Empty sum should be equal to 0 and empty product should be equal to 1.\\n    >>> sum_product2([])\\n    (0, 1)\\n    >>> sum_product2([1, 2, 3, 4])\\n    (10, 24)\\n    \"\"\"\\n    return sum(nums), reduce(lambda x, y: x * y, nums, 1)\\n\\n\\ndef sum_product3(numbers: List[int]) -> Tuple[int, int]:\\n    \"\"\" For a given list of integers, return a tuple consisting of a sum and a product of all the integers in a list.\\n    Empty sum should be equal to 0 and empty product should be equal to 1.\\n    >>> sum_product3([])\\n    (0, 1)\\n    >>> sum_product3([1, 2, 3, 4])\\n    (10, 24)\\n    \"\"\"\\n    return sum(numbers), prod(numbers)\\n\\n\\ndef prod(l: List[int]):\\n    total = 1\\n    for i in l:\\n        total *= i\\n    return total\\n\\n\\nif __name__ == \"__main__\":\\n    import doctest\\n\\n    doctest.testmod()\\n'},\n",
       " {'task_id': 'HumanEval/9',\n",
       "  'completion': '    max_number: int = -10**9\\n    result: List[int] = []\\n    \\n    for element in numbers:\\n        if element > max_number:\\n            max_number = element\\n        result.append(max_number)\\n        \\n    return result\\n\\n\\ndef sort_name_by_age(profiles: List[Tuple[str, int]]) -> List[Tuple[str, int]]:\\n    \"\"\" Given a list of tuples with names and ages, sort it by age from lowest to highest\\n    >>> sort_name_by_age([(\\'A\\', 20), (\\'B\\', 23), (\\'C\\', 15)])\\n    [(\\'C\\', 15), (\\'A\\', 20), (\\'B\\', 23)]\\n    \"\"\"\\n    return sorted(profiles, key=lambda x: x[1])'},\n",
       " {'task_id': 'HumanEval/10',\n",
       "  'completion': \"    for i in range(len(string)):\\n        suffix = string[i:]\\n        if is_palindrome(suffix):\\n            # we found the maximum palindromic suffix\\n            return string + suffix[:0:-1]  # omit last character to avoid duplication\\n    return ''\\n\"},\n",
       " {'task_id': 'HumanEval/11',\n",
       "  'completion': '    if not all(char in [\\'0\\', \\'1\\'] for char in a) or \\\\\\n       not all(char in [\\'0\\', \\'1\\'] for char in b):\\n        raise ValueError(\"Strings must be composed of only 0s and 1s!\")\\n\\n    return \\'\\'.join([str(int(x) ^ int(y)) for x, y in zip(a, b)])\\n\\n\\ndef single_bit_xor(secret: str, key: str = \\'0\\') -> List[bytes]:\\n    \"\"\" Input is a byte string and an optional (default 0) bit.\\n    Perform XOR on each byte with the key and return result as a list of bytes.\\n    >>> single_bit_xor(\\'Some text!\\'.encode(), \\'1\\')\\n    [b\\'R\\', b\\'\\\\x9d\\\\x87\\\\x9a!\\']\\n    \"\"\"\\n    if not all(char in [\\'0\\', \\'1\\'] for char in key):\\n        raise ValueError(\"key must only contain 0s and 1s!\")\\n\\n    return [bytes([ord(byte) ^ int(key, 2)]) for byte in secret]\\n'},\n",
       " {'task_id': 'HumanEval/12',\n",
       "  'completion': \"\\n    if not strings:\\n        return None\\n\\n    result = strings[0]\\n    for string in strings:\\n        if len(string) > len(result):\\n            result = string\\n    return result\\n\\n\\nprint(longest(['a', 'bbb', 'c']))\\n\"},\n",
       " {'task_id': 'HumanEval/13',\n",
       "  'completion': '    while b != 0:\\n        (a,b) = (b, a % b)\\n    return a\\n'},\n",
       " {'task_id': 'HumanEval/14',\n",
       "  'completion': '    return [string[: i + 1] for i in range(len(string))]\\n\\n\\ndef all_suffixes(string: str) -> List[str]:\\n    \"\"\" Return list of all suffixes from shortest to longest of the input string\\n    >>> all_suffixes(\\'abc\\')\\n    [\\'abc\\', \\'bc\\', \\'c\\', \\'\\']\\n    \"\"\"\\n    return [string[-i:] for i in range(len(string), 0, -1)]\\n'},\n",
       " {'task_id': 'HumanEval/15',\n",
       "  'completion': \"    return ' '.join([str(i) for i in range(n+1)])\\n\\nprint(string_sequence(0))\\nprint(string_sequence(5))\"},\n",
       " {'task_id': 'HumanEval/16',\n",
       "  'completion': '\\n    # convert input to a set to get only unique values\\n    return len({c for c in string if not c.isspace()})\\n\\nif __name__ == \"__main__\":\\n    import doctest\\n    doctest.testmod()'},\n",
       " {'task_id': 'HumanEval/17',\n",
       "  'completion': '    note = {\\n        \"o\": 4,\\n        \"o|\": 2,\\n        \".|\": 1\\n    }\\n    result = [note.get(i) for i in music_string.split() if (i != \\'\\') and (note.get(i))]\\n    return result\\n\\n\\nif __name__ == \\'__main__\\':\\n    import doctest\\n\\n    doctest.testmod()\\n'},\n",
       " {'task_id': 'HumanEval/18',\n",
       "  'completion': '    count = 0\\n    if substring == \"\": return len(string) + 1 # empty string is always a substring of the original string\\n    for i in range(len(string)-len(substring)+1):\\n        if string[i:].startswith(substring):\\n            count += 1\\n    return count\\n'},\n",
       " {'task_id': 'HumanEval/19',\n",
       "  'completion': '\\n    numberals = {\\n        \"zero\": 0,\\n        \"one\": 1,\\n        \"two\": 2,\\n        \"three\": 3,\\n        \"four\": 4,\\n        \"five\": 5,\\n        \"six\": 6,\\n        \"seven\": 7,\\n        \"eight\": 8,\\n        \"nine\": 9,\\n    }\\n    return \" \".join(\\n        sorted((numberal for numberal in numbers.split()), key=lambda x: numberals[x])\\n    )\\n\\n\\ndef sort_numbers_with_list(numbers: str) -> str:\\n    \"\"\" Input is a space-delimited string of numberals from \\'zero\\' to \\'nine\\'.\\n    Valid choices are \\'zero\\', \\'one\\', \\'two\\', \\'three\\', \\'four\\', \\'five\\', \\'six\\', \\'seven\\', \\'eight\\' and \\'nine\\'.\\n    Return the string with numbers sorted from smallest to largest\\n    >>> sort_numbers(\\'three one five\\')\\n    \\'one three five\\'\\n    \"\"\"\\n\\n    numberals = {\\n        \"zero\": 0,\\n        \"one\": 1,\\n        \"two\": 2,\\n        \"three\": 3,\\n        \"four\": 4,\\n        \"five\": 5,\\n        \"six\": 6,\\n        \"seven\": 7,\\n        \"eight\": 8,\\n        \"nine\": 9,\\n    }\\n    numbers: List[str] = numbers.split()\\n    for i in range(1, len(numbers)):\\n        current_number: str = numbers[i]\\n        index: int = i - 1\\n        while index >= 0 and numberals[current_number] < numberals[numbers[index]]:\\n            numbers[index + 1] = numbers[index]\\n            index -= 1\\n        numbers[index + 1] = current_number\\n    return \" \".join(numbers)\\n\\n\\nif __name__ == \"__main__\":\\n    print(sort_numbers(\"three one five\"))\\n'},\n",
       " {'task_id': 'HumanEval/20',\n",
       "  'completion': '    # convert the list to a sorted list\\n    sorted_numbers = sorted(numbers)\\n    # get the minimum delta between numbers in the list\\n    min_delta = abs(sorted_numbers[1] - sorted_numbers[0])\\n    # init the result with first two elements in the list\\n    result = (sorted_numbers[0], sorted_numbers[1])\\n    for num, next_num in zip(sorted_numbers, sorted_numbers[1:]):\\n        delta = abs(next_num - num)\\n        if delta < min_delta:\\n            # update the minimum delta and the result\\n            min_delta = delta\\n            result = (num, next_num)\\n    return result\\n\\n\\ndef test() -> None:\\n    print(\"PASSED\" if find_closest_elements([1.0, 2.0, 3.0, 4.0, 5.0, 2.2]) == (2.0, 2.2) else \"FAILED\")\\n    print(\"PASSED\" if find_closest_elements([1.0, 2.0, 3.0, 4.0, 5.0, 2.0]) == (2.0, 2.0) else \"FAILED\")\\n\\n\\nif __name__ == \\'__main__\\':\\n    test()\\n'},\n",
       " {'task_id': 'HumanEval/21', 'completion': '    return []\\n\\n'},\n",
       " {'task_id': 'HumanEval/22',\n",
       "  'completion': \"    return list(filter(lambda val: isinstance(val, int), values))\\n\\nif __name__ == '__main__':\\n    assert filter_integers(['a', 3.14, 5]) == [5]\\n    assert filter_integers([1, 2, 3, 'abc', {}, []]) == [1, 2, 3]\"},\n",
       " {'task_id': 'HumanEval/23', 'completion': '    return len(string)\\n'},\n",
       " {'task_id': 'HumanEval/24',\n",
       "  'completion': '    # Check if the number is prime \\n    if n == 1:\\n        return 1\\n    for i in range(n//2 , 1, -1):\\n        if n%i == 0 :\\n            return int(n/i)\\n    return 1'},\n",
       " {'task_id': 'HumanEval/25',\n",
       "  'completion': '\\n    def get_prime(number: int):\\n        if number % 2 == 0:\\n            return 2\\n        for i in range(3, int(number**0.5), 2):\\n            if number % i == 0:\\n                return i\\n        return number\\n\\n    factor_list = []\\n    while n != 1:\\n        prime = get_prime(n)\\n        count = 0\\n        while n % prime == 0:\\n            count += 1\\n            n /= prime\\n        factor_list.append(int(prime))\\n        factor_list *= count\\n    return factor_list\\n\\n\\nif __name__ == \"__main__\":\\n    import doctest\\n    doctest.testmod()'},\n",
       " {'task_id': 'HumanEval/26',\n",
       "  'completion': '    result = []\\n    for number in numbers:\\n        if numbers.count(number) == 1:\\n            result.append(number)\\n    return result\\n\\n\\ndef remove_duplicates_without_data_structures(numbers: List[int]) -> List[int]:\\n    \"\"\" From a list of integers, remove all elements that occur more than once.\\n    Keep order of elements left the same as in the input.\\n    >>> remove_duplicates([1, 2, 3, 2, 4])\\n    [1, 3, 4]\\n    \"\"\"\\n    result = []\\n    for number in numbers:\\n        if not any(number == i for i in result):\\n            result.append(number)\\n    return result\\n'},\n",
       " {'task_id': 'HumanEval/27',\n",
       "  'completion': '\\n\\nif __name__ == \"__main__\":\\n    import doctest\\n\\n    doctest.testmod()'},\n",
       " {'task_id': 'HumanEval/28', 'completion': '    return \"\".join(strings)\\n'},\n",
       " {'task_id': 'HumanEval/29',\n",
       "  'completion': '    return list(filter(lambda x: x.startswith(prefix), strings))\\n\\n\\ndef filter_by_suffix(strings: List[str], suffix: str) -> List[str]:\\n    \"\"\" Filter an input list of strings only for ones that end with a given suffix.\\n    >>> filter_by_suffix([], \\'a\\')\\n    []\\n    >>> filter_by_suffix([\\'abc\\', \\'bcd\\', \\'cde\\', \\'array\\'], \\'a\\')\\n    [\\'cde\\']\\n    \"\"\"\\n    return list(filter(lambda x: x.endswith(suffix), strings))\\n'},\n",
       " {'task_id': 'HumanEval/30',\n",
       "  'completion': '    # pos_list = []\\n    # for item in l:\\n    #     if item > 0:\\n    #         pos_list.append(item)\\n    # return pos_list\\n\\n    # list comprehension\\n    #return [i for i in l if i>0]\\n\\n    #filter function\\n    return list(filter(lambda x:x >0,l))\\n    \\ndef is_divisible(n: int, m: int) -> bool:\\n    \"\"\"Return True if n is divisble by m. False otherwise.\\n    >>> is_divisible(15, 3)\\n    True\\n    >>> is_divisible(92, 2)\\n    True\\n    >>> is_divisible(7, 4)\\n    False\\n    \"\"\"\\n    # if n % m == 0:\\n    #     return True\\n    # else:\\n    #     return False\\n\\n    #return n%m==0\\n\\n    #using ternary operator\\n    # return True if n%m==0 else False\\n\\n    #list compreshension\\n    #[expression for item in list if condition]\\n    #return [True for i in range(n) if i%m == 0]\\n    \\n    #filter\\n    #return list(filter(lambda x:x%m==0,range(n)))\\n\\ndef remove_vowels(s: str) -> str:\\n    \"\"\"Remove all vowels from a string.\\n    >>> remove_vowels(\"abcedifuty0o\")\\n    \\'bcdfty0\\'\\n    >>> remove_vowels(\"hello world!\")\\n    \\'hll wrld!\\'\\n    \"\"\"\\n\\n    #v = \"aeiou\"\\n    #res=s\\n    #for i in s:\\n    #    if i in v:\\n    #        res.replace(i,\"\")\\n        \\n    #return res\\n\\n    #without loop\\n    \\n    return \"\".join([i for i in s if i not in \"aeiou\"])\\n\\ndef is_leap(year: int) -> bool:\\n    \"\"\"Return True if year is a leap year. False otherwise.\\n'},\n",
       " {'task_id': 'HumanEval/31',\n",
       "  'completion': '    \"*** YOUR CODE HERE ***\"\\n    i = 2\\n    if (n==1):\\n        return False;\\n    elif (n == 3):\\n        return True;\\n    while ((i*i<= n)):\\n        \\n        if((n%i)==0):\\n            return False\\n        i += 1\\n    return True\\n    \\ndef gcd(a, b):\\n    \"\"\"Returns the greatest common divisor of a and b.\\n    Should be implemented using recursion.\\n    >>> gcd(34, 19)\\n    1\\n    >>> gcd(39, 91)\\n    13\\n    >>> gcd(20, 30)\\n    10\\n    >>> gcd(40, 40)\\n    40\\n    \"\"\"\\n    \"*** YOUR CODE HERE ***\"\\n    if (b == 0):\\n        return a;\\n        \\n    else:\\n        return gcd(b,a%b);\\ndef lcm(a, b):\\n    \"\"\"Returns the lowest common multiple of a and b.\\n    >>> lcm(3, 5)\\n    15\\n    >>> lcm(2, 3)\\n    6\\n    >>> lcm(5, 10)\\n    25\\n    >>> lcm(12, 20)\\n    360\\n    \"\"\"\\n    \"*** YOUR CODE HERE ***\"\\n    return (a*b)/gcd(a,b);\\n'},\n",
       " {'task_id': 'HumanEval/32',\n",
       "  'completion': '    if len(xs) % 2 != 0:\\n        raise ValueError(\\'Coefficient list must contain even number of coefficients\\')\\n    return None\\n\\n\\ndef find_extreme(xs):\\n    \"\"\" xs are coefficients of a polynomial.\\n    find_extreme finds points where poly(x) gets extreme value\\n    >>> find_extreme([1, -2]) # f(x) = 1 - 2x -> extreme at x=0.5 with y = 1 - 2 * 0.5 = 0.5\\n    0.5\\n    >>> find_extreme([-6, 11, -6, 1]) # (x - 1) * (x - 2) * (x - 3) = -6 + 11x - 6x^2 + x^3 -> extreme at x=0.5, 1.5, 2.5\\n    0.5\\n    \"\"\"\\n    return None'},\n",
       " {'task_id': 'HumanEval/33',\n",
       "  'completion': '    result = l.copy()\\n    result[::3] = sorted(result[::3])\\n    return result'},\n",
       " {'task_id': 'HumanEval/34',\n",
       "  'completion': '    return sorted(list(set(l)))\\n\\ndef test_unique():\\n    assert unique([6, 4, 3, 8, 6, 1]) == [1, 3, 4, 6, 8]\\n'},\n",
       " {'task_id': 'HumanEval/35',\n",
       "  'completion': '    assert len(l) != 0\\n    result = l[0]\\n    for element in l:\\n        if element > result:\\n            result = element\\n    return result'},\n",
       " {'task_id': 'HumanEval/36',\n",
       "  'completion': '    # count = 0\\n    # for num in range(n):\\n    #     if (num % 11 == 0 or num % 13 == 0) and \\'7\\' in str(num):\\n    #         count += 1\\n    # return count\\n\\n# 暴力解法\\n\\ndef fizz_buzz(n: int):\\n    count = 0\\n    for i in range(1, n):\\n        if (i % 11 == 0 or i % 13 == 0) and \\'7\\' in str(i):\\n            count += 1\\n    return count\\n\\ndef fizz_buzz(n: int):\\n    \"\"\"Return the number of times the digit 7 appears in integers less than n which are divisible by 11 or 13.\\n    >>> fizz_buzz(50)\\n    0\\n    >>> fizz_buzz(78)\\n    2\\n    >>> fizz_buzz(79)\\n    3\\n    \"\"\"\\n    count = 0\\n    for i in range(1, n):\\n        if (i % 11 == 0 or i % 13 == 0):\\n            s = str(i)\\n            j = 0\\n            while j < len(s):\\n                if s[j] == \\'7\\':\\n                    count += 1\\n                j += 1\\n    \\n    return count\\n\\nprint(fizz_buzz(50))\\nprint(fizz_buzz(78))\\nprint(fizz_buzz(79))'},\n",
       " {'task_id': 'HumanEval/37',\n",
       "  'completion': '    l_evens = l[::2]\\n    return l_evens.sort()\\n    \\n\\n# In[ ]:\\n\\n\\ndef sort_odd(l):\\n    \"\"\"This function takes a list l and returns a list l\\' such that\\n    l\\' is identical to l in the even indicies, while its values at the odd indicies are equal\\n    to the values of the odd indicies of l, but sorted.\\n    >>> sort_odd([1, 2, 3])\\n    [1, 3, 2]\\n    >>> sort_odd([5, 4, 3, 2])\\n    [5, 2, 3, 4]\\n    \"\"\"\\n\\n'},\n",
       " {'task_id': 'HumanEval/38',\n",
       "  'completion': '    # split string to groups. Each of length 3.\\n    groups = [s[(3 * i):min((3 * i + 3), len(s))] for i in range((len(s) + 2) // 3)]\\n    # cycle elements in each group. Unless group has fewer elements than 3.\\n    groups = [(group[-1] + group[0:-1]) if len(group) == 3 else group for group in groups]\\n    return \"\".join(groups)\\n'},\n",
       " {'task_id': 'HumanEval/39',\n",
       "  'completion': '    if not isinstance(n, int):\\n        raise TypeError(\"n isn\\'t an integer\")\\n    if n < 0:\\n        raise ValueError(\\'n must be non-negative\\')\\n    fibs = []\\n    a, b = 0, 1\\n    while len(fibs) != n + 1:\\n        fibs.append(a + b)\\n        a, b = b, a + b\\n\\n    for fib in fibs[::-1]:\\n        if is_prime(fib):\\n            return fib\\n\\ndef prime_factors(n: int):\\n    \"\"\"\\n    prime_factors returns all prime factors of n.\\n    >>> prime_factors(36)\\n    [2, 3, 3, 5]\\n    >>> prime_factors(40)\\n    [2, 2, 2, 5]\\n    >>> prime_factors(70)\\n    [2, 5, 7]\\n    \"\"\"\\n    if n == 1: return []\\n    \\n    primes = []\\n\\n    while n % 2 == 0:\\n        primes.append(2)\\n        n //= 2\\n\\n    p = 3\\n    while n > 1 and p * p <= n:\\n        if n % p == 0:\\n            primes.append(p)\\n            n //= p\\n        else:\\n            p += 2\\n    \\n    if n > 1:\\n        primes.append(n)\\n\\n    return primes\\n\\ndef is_prime(n: int):\\n    \"\"\"\\n    is_prime returns True if n is prime, otherwise False.\\n    >>> is_prime(97)\\n    True\\n    >>> is_prime(100)\\n    False\\n    \"\"\"\\n    if not isinstance(n, int):\\n        raise TypeError(\"n isn\\'t an integer\")\\n    \\n    if n < 2: return False\\n    if n == 2 or n == 3: return True\\n    if n % 2 == 0 or n % 3 == 0: return False\\n\\n    i = 5\\n    while i * i <= n:'},\n",
       " {'task_id': 'HumanEval/40',\n",
       "  'completion': '    if len(l) < 3:\\n        return False\\n\\n    seen = set()\\n    for i in range(len(l)):\\n        for j in range(i+1, len(l)):\\n            x = l[i] + l[j]\\n            y = -(x)\\n            if y in seen and x not in seen:\\n                return True\\n            else:\\n                seen.add(l[i])\\n    return False\\n'},\n",
       " {'task_id': 'HumanEval/41',\n",
       "  'completion': \"    count = 0\\n    l2r = [1 for _ in range(n)]\\n    r2l = [-1 for _ in range(n)]\\n\\n    while True:\\n        # check for collisions\\n        for idx, (x, y) in enumerate(zip(l2r, r2l)):\\n            if x + y == 0:\\n                count += 1\\n                l2r[idx] = -1 * abs(l2r[idx])\\n                r2l[idx] = -1 * abs(r2l[idx])\\n        # check for car movement\\n        if sum(l2r) == 0:\\n            return count\\n\\nif __name__ == '__main__':\\n    assert car_race_collision(50) == 3075\\n\"},\n",
       " {'task_id': 'HumanEval/42',\n",
       "  'completion': '    return list(map(lambda x: x+1, l))\\n\\nprint(incr_list([1, 2, 3]))'},\n",
       " {'task_id': 'HumanEval/43',\n",
       "  'completion': '    return any(a+b==0 and a!=b for a, b in itertools.combinations(l, 2))\\n'},\n",
       " {'task_id': 'HumanEval/44',\n",
       "  'completion': '    def _change_base(x: int, base: int):\\n        # non recursive helper function.\\n        if x <= 0:\\n            return \\'\\'\\n        else:\\n            return str(_change_base(x // base, base) + str(x % base))\\n    assert isinstance(x, int) and isinstance(base, int), \"Type Error\"\\n    if x == 0 or base <= 1 or base > 9:\\n        return \\'0\\'\\n    else:\\n        return _change_base(x, base)\\n'},\n",
       " {'task_id': 'HumanEval/45',\n",
       "  'completion': '\\n\\ndef quad_area(l1, l2, theta):\\n    \"\"\"Given two length, length1 and length2, and an angle separating them, return area of a quadrilateral.\\n    >>> quad_area(4, 6, pi/2)\\n    12\\n    \"\"\"\\n'},\n",
       " {'task_id': 'HumanEval/46',\n",
       "  'completion': \"    # * If we were to keep a list of all the values we could do this with recursion and memoization, \\n    # * but since we can't use recursion, instead we'll store the last four numbers in a dict. \\n    fib_dict = {0: 0, 1: 0, 2:2, 3:0}  \\n    if n < 4:\\n        return fib_dict[n]\\n    for i in range(4, n+1):\\n        temp = sum(fib_dict.values())\\n        fib_dict = {\\n            k: v for k, v in fib_dict.items() if (k < i-3)  \\n        }  # * Get rid of the number that is more than three less than our current index\\n        fib_dict[i] = temp\\n    \\n    return fib_dict[n]\"},\n",
       " {'task_id': 'HumanEval/47',\n",
       "  'completion': '\\n    # make a copy of l to avoid modifying the original list\\n    l_copy = sorted(l)\\n\\n    if len(l_copy) % 2 == 1:\\n        return l_copy[len(l_copy) // 2]\\n    else:\\n        middle_two = (l_copy[len(l_copy)//2 - 1], l_copy[len(l_copy)//2])\\n\\n        return float(sum(middle_two))/2.0\\n    \\n\\nif __name__ == \"__main__\":\\n    import doctest\\n    # run the embedded tests\\n    doctest.testmod()'},\n",
       " {'task_id': 'HumanEval/48',\n",
       "  'completion': '    if len(text) < 2:\\n        return True\\n    start = 0\\n    end = len(text)-1\\n\\n    while start <= end:\\n        if text[start] != text[end]:\\n            return False\\n        else:\\n            start += 1\\n            end -= 1\\n    return True\\n\\ndef is_palindrome_v2(text: str):\\n    \"\"\"\\n    Checks if given string is a palindrome\\n    >>> is_palindrome(\\'\\')\\n    True\\n    >>> is_palindrome(\\'aba\\')\\n    True\\n    >>> is_palindrome(\\'aaaaa\\')\\n    True\\n    >>> is_palindrome(\\'zbcd\\')\\n    False\\n    \"\"\"\\n    if len(text) < 2:\\n        return True\\n\\n    for i in range(0, int(len(text)/2)):\\n        if text[i] != text[-1-i]:\\n            return False\\n        \\n    return True\\n\\ndef is_palindrome_v3(text: str):\\n    \"\"\"\\n    Checks if given string is a palindrome\\n    >>> is_palindrome(\\'\\')\\n    True\\n    >>> is_palindrome(\\'aba\\')\\n    True\\n    >>> is_palindrome(\\'aaaaa\\')\\n    True\\n    >>> is_palindrome(\\'zbcd\\')\\n    False\\n    \"\"\"\\n    if len(text) < 2:\\n        return True\\n    \\n    mid = int(len(text)/2)+1\\n    first_half = text[0:mid]\\n    last_half = text[-mid:]\\n\\n    if first_half == reversed(last_half):\\n        return True\\n    else:\\n        return False\\n\\ndef is_palindrome_v4(text: str):\\n    \"\"\"\\n    Checks if given string is a palindrome\\n    >>> is_palindrome(\\'\\')\\n    True\\n    >>> is_palindrome(\\'aba\\')\\n    True\\n    >>> is_palindrome(\\'aaaaa\\')\\n    True\\n    >>> is_palindrome(\\'zbcd\\')\\n    False\\n    \"\"\"\\n    if len(text) < 2:\\n        return True'},\n",
       " {'task_id': 'HumanEval/49',\n",
       "  'completion': '    if n <= 1:\\n        return n\\n    else:\\n        a = modp(n // 2, p)\\n        if n % 2 == 0:\\n            return (a * a) % p\\n        else:\\n            return (((a * a) % p) * 2) % p'},\n",
       " {'task_id': 'HumanEval/50',\n",
       "  'completion': '    return \"\".join([chr(((ord(ch) - 5 - ord(\"a\")) % 26) + ord(\"a\")) for ch in s])\\n'},\n",
       " {'task_id': 'HumanEval/51',\n",
       "  'completion': '    vowels = [\"a\", \"e\", \"i\", \"o\", \"u\", \"y\"]\\n    new_text = \"\"\\n    for char in text:\\n        if not char.lower() in vowels:\\n            new_text += char\\n    return new_text'},\n",
       " {'task_id': 'HumanEval/52',\n",
       "  'completion': '    for e in l:\\n        if e >= t:\\n            return False\\n    return True\\n\\nprint(below_threshold([1, 2, 4, 10], 100))\\nprint(below_threshold([1, 20, 4, 10], 5))'},\n",
       " {'task_id': 'HumanEval/53', 'completion': '    return x + y\\n'},\n",
       " {'task_id': 'HumanEval/54',\n",
       "  'completion': '    return len(s0) == len(s1) and all(map(lambda c: s1.count(c) == 2, s0))\\n'},\n",
       " {'task_id': 'HumanEval/55',\n",
       "  'completion': '    if n == 1 or n == 2:\\n        return 1\\n    elif n > 2:\\n        return fib(n-1) + fib(n-2)\\n\\n\\nprint(\"fib = \", fib(5))\\n'},\n",
       " {'task_id': 'HumanEval/56',\n",
       "  'completion': '    left = 0\\n    right = 0\\n    for bracket in brackets:\\n        if bracket == \"<\":\\n            left +=1\\n        else:\\n            right +=1\\n        if right > left:\\n            return False\\n    return True\\n    pass'},\n",
       " {'task_id': 'HumanEval/57',\n",
       "  'completion': '    # is_monotonic = True\\n\\n    if len(l) < 3:\\n        return True\\n    direction = l[1] - l[0]\\n    for i in range(2, len(l)):\\n        if (l[i] - l[i-1]) * direction < 0:\\n            # is_monotonic = False\\n            return False\\n    return True\\n\\nif __name__ == \"__main__\":\\n    import doctest\\n    print(doctest.testmod())'},\n",
       " {'task_id': 'HumanEval/58',\n",
       "  'completion': '\\n    return sorted(set(l1) & set(l2))'},\n",
       " {'task_id': 'HumanEval/59',\n",
       "  'completion': '    \"*** YOUR CODE HERE ***\"\\n\\ndef coprime(m: int, n: int):\\n    \"\"\" Return True if m and n are coprime, False otherwise.Two numbers are\\n    coprime if their only common factor (divisor) is 1.\\n    >>> coprime(43, 7)\\n    False\\n    >>> coprime(6, 25)\\n    True\\n    \"\"\"\\n    \"*** YOUR CODE HERE ***\"'},\n",
       " {'task_id': 'HumanEval/60', 'completion': '    return n * (n + 1) /2'},\n",
       " {'task_id': 'HumanEval/61',\n",
       "  'completion': '    return check_balance(brackets) == 0\\n\\ndef check_balance(brackets:str):\\n    depth = 0\\n    for b in brackets:\\n        if b == \"(\":\\n            depth += 1\\n        else:\\n            depth -= 1\\n        if depth < 0:\\n            break\\n    return depth\\n\\nif __name__ == \"__main__\":\\n    import doctest\\n    doctest.testmod()'},\n",
       " {'task_id': 'HumanEval/62',\n",
       "  'completion': '    return [i * x for i,x in enumerate(xs)][1:]\\n    '},\n",
       " {'task_id': 'HumanEval/63',\n",
       "  'completion': '    if n == 0: return 0\\n    if n == 1: return 0\\n    if n == 2: return 1\\n    return fibfib(n - 1) + fibfib(n - 2) + fibfib(n - 3)'},\n",
       " {'task_id': 'HumanEval/64',\n",
       "  'completion': '\\n    # count = 0\\n    # for c in s:\\n    #     if c in \"aeiouAEIOU\":\\n    #         count += 1\\n    # return count\\n\\n    # count = sum(c in \"aeiou\" for c in s)\\n    # return count\\n\\n    # count = len(set(\"aeiou\") & set(s))\\n    # return count\\n    \\n    count = sum(s.count(v) for v in \"aeiou\")\\n    if s[-1] == \\'y\\':\\n        count += 1\\n    elif s[-1] == \\'Y\\':\\n        count += 2\\n        \\n    return count\\n\\n\\nif __name__ == \\'__main__\\':\\n    import doctest\\n    doctest.testmod()\\n'},\n",
       " {'task_id': 'HumanEval/65',\n",
       "  'completion': '    \"*** YOUR CODE HERE ***\"\\n\\ndef has_cycles(graph):\\n    \"\"\"Return a boolean indicating whether the directed graph that is\\n    represented by the given dictionary has any cycles.\\n\\n    Note that the graph may contain self-links.\\n    >>> d = {\"A\": [\"B\", \"C\"], \"B\": [], \"C\": [\"A\"]}\\n    >>> has_cycles(d)\\n    True\\n    >>> d = {\"A\":[\"B\"], \"B\":[\"C\"], \"C\":[]}\\n    >>> has_cycles(d)\\n    False\\n    \"\"\"\\n    \"*** YOUR CODE HERE ***\"\\n'},\n",
       " {'task_id': 'HumanEval/66',\n",
       "  'completion': '    return sum(map(ord, list(filter(lambda x: x >= \\'A\\' and x <= \\'Z\\', s))))\\n\\nif __name__ == \"__main__\":\\n    print(digitSum(\"abAB\"))'},\n",
       " {'task_id': 'HumanEval/67',\n",
       "  'completion': \"    return int(s.split(' ')[-4]) + int(s.split(' ')[-6])\"},\n",
       " {'task_id': 'HumanEval/68',\n",
       "  'completion': '    if not arr or len(arr) == 0: return []\\n    \\n    even_list = [x for x in arr if x%2==0]\\n    smallest = min(even_list) if len(even_list)>1 else 0\\n\\n    try:\\n        ind = arr.index(smallest)\\n        return [smallest,ind]\\n    \\n    except ValueError:\\n        return []\\n\\ndef pluck2(arr):\\n    \"\"\"\\n        Same as solution one but using filter and lambda\\n    \"\"\"\\n    if not arr or len(arr) == 0: return []\\n    \\n    even_list = list(filter(lambda x: x%2==0, arr))\\n    smallest = min(even_list) if len(even_list)>1 else 0\\n\\n    try:\\n        ind = arr.index(smallest)\\n        return [smallest,ind]\\n    \\n    except ValueError:\\n        return []'},\n",
       " {'task_id': 'HumanEval/69',\n",
       "  'completion': '    # Your code here    \\n    lst.sort()\\n    print(lst)\\n    freq = 0\\n    for i in lst:\\n        if i <= freq:\\n            freq += 1\\n            \\n        else:\\n            return i\\n    return -1\\n\\nprint(\"search([4, 1, 2, 2, 3, 1]) == 2: \", search([4, 1, 2, 2, 3, 1]))\\nprint(\"search([1, 2, 2, 3, 3, 3, 4, 4, 4]) == 3\", search([1, 2, 2, 3, 3, 3, 4, 4, 4]))\\nprint(\"search([5, 5, 4, 4, 4]) == -1: \", search([5, 5, 4, 4, 4]))'},\n",
       " {'task_id': 'HumanEval/70', 'completion': ''},\n",
       " {'task_id': 'HumanEval/71',\n",
       "  'completion': '    return -1 if a+b < c or a+c < b or c+b < a else round((a*b)/2, 2)\\n    \\nprint(triangle_area(3, 4, 5))'},\n",
       " {'task_id': 'HumanEval/72',\n",
       "  'completion': '    \\n    return q == q[::-1] and sum(q) <= w'},\n",
       " {'task_id': 'HumanEval/73',\n",
       "  'completion': \"    if len(arr) <= 1:\\n        return 0\\n    \\n    left = 0\\n    right = len(arr) - 1\\n    count = 0\\n\\n    while left < right:\\n        # print('left', arr[left])\\n        # print('right', arr[right])\\n        \\n        if arr[left] != arr[right]:\\n            left_val = arr[left + 1:right + 1]\\n            right_val = list(reversed(arr[left + 1:right + 1]))\\n            \\n            # print('left_val', left_val)\\n            # print('right_val', right_val)\\n            \\n            if left_val == right_val:\\n                count += 1\\n                return count\\n            else:\\n                count += 1\\n                \\n        left += 1\\n        right -= 1\\n    \\n    return count\\n\\n# Example\\nprint(smallest_change([1,2,3,5,4,7,9,6]))\\n# 4\\n\"},\n",
       " {'task_id': 'HumanEval/74',\n",
       "  'completion': '    count_lst0 = sum(len(word) for word in lst0)\\n    count_lst1 = sum(len(word) for word in lst1)\\n    return lst0 if count_lst0 <= count_lst1 else lst1\\n    '},\n",
       " {'task_id': 'HumanEval/75',\n",
       "  'completion': '    \\n    if len(list_of_primes(a)) == 3:\\n        return True\\n    else:\\n        return False\\n\\ndef list_of_primes(a):\\n    primes = [i for i in range(2, a+1) if not any([j for j in range(2, int(i**0.5)+1) if i%j == 0])]\\n    \\n    return [i for i in primes if (a % i == 0)]'},\n",
       " {'task_id': 'HumanEval/76',\n",
       "  'completion': '    \\n    return x == n**int(x/n)'},\n",
       " {'task_id': 'HumanEval/77',\n",
       "  'completion': '    \\n    if a == 0:\\n        return True\\n    else:\\n        if int(a**(1/3))**3 != abs(a):\\n            return False\\n        else:\\n            return True\\n        \\nprint(iscube(-27))'},\n",
       " {'task_id': 'HumanEval/78',\n",
       "  'completion': \"    \\n    primes = [2, 3, 5, 7]\\n    hexes = ['A', 'B', 'C', 'D', 'E', 'F']\\n    count = 0\\n    for n in num:\\n        if n.isdigit():\\n            if int(n) in primes:\\n                count += 1\\n        else:\\n            if n in hexes and int(n, 16) in primes:\\n                count += 1\\n    \\n    return count\"},\n",
       " {'task_id': 'HumanEval/79',\n",
       "  'completion': '\\n    return \\'db\\' + bin(decimal)[2:] + \\'db\\'\\n\\n\\ndef binary_to_decimal(binary):\\n    \"\"\"You will be given a string that contains binary numbers. Your task is to convert the string into a decimal\\n    number. The first and last 2 characters in the string will be \\'db\\'.\\n\\n    Examples:\\n    binary_to_decimal(\"db100000db\") # returns 32\\n    binary_to_decimal(\"db1111db\")   # returns 15\\n    \"\"\"\\n\\n    return int(binary.replace(\\'db\\', \\'\\'), 2)\\n\\n\\ndef binary_sum(a, b):\\n    \"\"\"You will be given 2 strings containing binary numbers. Your task is to return a string that contains the\\n    binary sum of both numbers. As in Example:\\n\\n    Examples:\\n    \"db1010db\" + \"db0011db\" = \"db1101db\".\\n\\n    The function should also return a string with 2 leading and trailing \\'db\\'.\\n\\n    binary_sum(\"db1010db\", \"db0111db\")   # returns \"db10001db\"\\n    binary_sum(\"db1111db\", \"db0011db\")   # returns \"db10000db\"\\n    \"\"\"\\n\\n    return \\'db\\' + bin(binary_to_decimal(a) + binary_to_decimal(b))[2:] + \\'db\\'\\n\\n\\ndef decimal_sum(a, b):\\n    \"\"\"You will be given 2 strings containing decimal numbers. Your task is to return a string that contains the\\n    decimal sum of both numbers. As in Example:\\n\\n    Examples:\\n    5 + 6 = 11\\n    7 + 8 = 15\\n\\n    The function should also return an integer.\\n\\n    decimal_sum(\"db5db\", \"db6db\")   # returns 11\\n    decimal_sum(\"db7db\", \"db8db\")   # returns 15\\n    \"\"\"\\n\\n    return binary_to_decimal(binary_sum(a,'},\n",
       " {'task_id': 'HumanEval/80', 'completion': ''},\n",
       " {'task_id': 'HumanEval/81',\n",
       "  'completion': '    return [\\n        \"E\" if gpa <= 0 else\\n        \"D-\" if gpa <= .7 else\\n        \"D\" if gpa <= 1 else\\n        \"D+\" if gpa <= 1.3 else\\n        \"C-\" if gpa <= 1.7 else\\n        \"C\" if gpa <= 2 else\\n        \"C+\" if gpa <= 2.3 else\\n        \"B-\" if gpa <= 2.7 else\\n        \"B\" if gpa <= 3 else\\n        \"B+\" if gpa <= 3.3 else\\n        \"A-\" if gpa <= 3.7 else\\n        \"A\" for gpa in grades]\\n\\n\\nif __name__ == \\'__main__\\':\\n    print(numerical_letter_grade([4.0, 1.7]))'},\n",
       " {'task_id': 'HumanEval/82',\n",
       "  'completion': '    \\n    return len(string) in (1, 2, 3, 5, 7, 9, 11, 13, 17, 19, 23, 29, 31)\\n\\ndef vowel_shift(s,n):\\n    \"\"\"Write a function that returns the given string with all its vowels (for Latin languages) \\n    shifted by n characters forward in the alphabet. The input string will only consist of lowercase \\n    English letters.\"\"\"\\n    \\n    out_string = \\'\\'\\n    for c in s:\\n        if c in \\'aeiouy\\':\\n            out_string += chr((ord(c) - ord(\\'a\\') + n) % 26 + ord(\\'a\\'))\\n        else:\\n            out_string += c\\n    return out_string\\n    \\ndef palindrome_index(s):\\n    \"\"\"Write a function that checks if a string is a palindrome. \\n    For the purpose of this exercise, we define empty string as a palindrome. \\n    Note: A palindrome is a word, phrase, or sequence of characters which reads the same \\n    backward or forward. You need to return the smallest possible integer which is the index of a character that needs \\n    to be removed to make the input string a palindrome.\"\"\"'},\n",
       " {'task_id': 'HumanEval/83',\n",
       "  'completion': '    \\n    if n == 1:\\n        return 2\\n    else:\\n        return sum([_9_digit_starters(i) for i in range(n - 1)]) * 8 \\\\\\n               + sum([_9_digit_enders(i) for i in range(n - 1)]) * 8\\n\\ndef _9_digit_starters(start):\\n    \"\"\"\\n    Return the count of 9-digit numbers which start with the given number.\\n    \"\"\"\\n    \\n    return sum([10 ** (8 - i) for i in range(start, 8 + 1)])\\n\\ndef _9_digit_enders(end):\\n    \"\"\"\\n    Return the count of 9-digit numbers which end with the given number.\\n    \"\"\"\\n    \\n    return sum([(10 ** (8 - i)) * 9 for i in range(end + 1)])\\n'},\n",
       " {'task_id': 'HumanEval/84',\n",
       "  'completion': \"    \\n    def sum_of_digits(num):\\n        # base case\\n        if num < 10:\\n            return num\\n        \\n        last = num % 10\\n        remainder = int((num - last) / 10)\\n        \\n        return int(sum_of_digits(remainder) + last)\\n    \\n    binary_sum_string = bin(sum_of_digits(N))[2:] # remove the leading '0b'\\n    return str(binary_sum_string)\\n\"},\n",
       " {'task_id': 'HumanEval/85',\n",
       "  'completion': '    # your code here\\n\\n    pass\\n'},\n",
       " {'task_id': 'HumanEval/86',\n",
       "  'completion': '    s = s.split()\\n    \\n    for i in range(len(s)):\\n        temp = sorted(list(s[i]))\\n        s[i] = \"\".join(temp)\\n        \\n    return \" \".join(s)'},\n",
       " {'task_id': 'HumanEval/87',\n",
       "  'completion': \"    lst = [[(i,j) for j in range(len(lst[i])) if lst[i][j]==x] for i in range (len(lst)) if x in lst[i]]\\n    return sorted([item for sublist in lst for item in sublist], key=lambda tup: (-tup[0], -tup[1]))\\n\\nif __name__ == '__main__':\\n    assert get_row([], 1) == []\\n    assert get_row([[], [1], [1, 2, 3]], 3) == [(2, 2)]\\n    assert get_row([\\n      [1,2,3,4,5,6],\\n      [1,2,3,4,1,6],\\n      [1,2,3,4,5,1]\\n    ], 1) == [(0, 0), (1, 4), (1, 0), (2, 5), (2, 0)]\\n\"},\n",
       " {'task_id': 'HumanEval/88',\n",
       "  'completion': '\\n    if len(array) <= 1:\\n        return array\\n    \\n    sum_first_last = (array[0] + array[-1])\\n    is_even = sum_first_last % 2 == 0\\n\\n    if is_even:\\n        return sorted(array, reverse=True)\\n    \\n    return sorted(array)\\n'},\n",
       " {'task_id': 'HumanEval/89',\n",
       "  'completion': \"    encrypted = ''\\n    for letter in s:\\n        alphabet_position = ord(letter) - 97\\n        encrypted += chr((alphabet_position + 2*2) % 26 + 97 )\\n    \\n    return encrypted\"},\n",
       " {'task_id': 'HumanEval/90', 'completion': '    '},\n",
       " {'task_id': 'HumanEval/91', 'completion': \"\\n    return S.count('I') - 1\"},\n",
       " {'task_id': 'HumanEval/92',\n",
       "  'completion': '    \\n    if x == int(y + z):\\n        return True\\n    elif y == int(x + z):\\n        return True\\n    elif z == int(y + x):\\n        return True\\n    else:\\n        return False\\n    \\nany_int(5, 2, 7) #➞ True\\n#any_int(3, 2, 2) #➞ False\\n#any_int(3, -2, 1) #➞ True\\n#any_int(3.6, -2.2, 2) #➞ False'},\n",
       " {'task_id': 'HumanEval/93',\n",
       "  'completion': '    vowels = \"AEIOU\"\\n    encoded_message = []\\n    \\n    for letter in message:\\n        new_letter = letter.upper()                      # swap case \\n        \\n        if letter.isalpha():\\n            if letter.upper() in vowels:                # check if is vowel\\n                index = (ord(letter) + 2 - ord(\"A\")) % len(vowels) \\n                new_letter = chr(ord(\"A\") + index)      # replace with letter that appears two places ahead of that vowel\\n            new_letter = new_letter.swapcase()          # swap case back to original\\n        \\n        encoded_message.append(new_letter)\\n    \\n    return \"\".join(encoded_message)                       # return string\\n'},\n",
       " {'task_id': 'HumanEval/94',\n",
       "  'completion': '\\n    # sorted(set(lst))\\n    my_list = sorted(lst)\\n    print(\\'sorted list : \\', my_list)\\n    for i in range(len(my_list), -1, -1):\\n        if my_list[i] % 2 == 0:\\n            print(\"Even\", my_list[i])\\n        elif my_list[i] != 1 and my_list[i] < (lst[0] + lst[-1]):\\n            if all(my_list[i] % num for num in range(2, my_list[i])):\\n                print(\"Prime\", my_list[i])\\n    return my_list\\n\\n\\nif __name__ == \\'__main__\\':\\n    # lst = [0,3,2,1,3,5,7,4,5,5,5,2,181,32,4,32,3,2,32,324,4,3]  # output: 10\\n    # lst = [1,0,1,8,2,4597,2,1,3,40,1,2,1,2,4,2,5,1]             # output: 25\\n    # lst = [1,3,1,32,5107,34,83278,109,163,23,2323,32,30,1,9,3]  # output: 13\\n    # lst = [0,724,32,71,99,32,6,0,5,91,83,0,5,6]                 # output: 11\\n    # lst = [0,81,12,3,1,21]                                       # output: 3\\n    # lst = [0,8,1,2,1,7]                                          # output: 7\\n\\n    list = []\\n    list.append(int(input(\"Enter a number \")))\\n    num2 = int(input(\"Enter another number \"))\\n    print(skjkasdkd(num'},\n",
       " {'task_id': 'HumanEval/95',\n",
       "  'completion': '    \\n    if dict == {}:\\n        return False \\n\\n    keys = list(dict.keys()) # Get all the keys from dict\\n    isLowerCase = False      # Assume keys are not in lower case by default \\n        \\n    for key in keys:         # Loop through all the keys\\n        if type(key) == str:      \\n            if key != key.lower():  # If key does not equal key in lowercase, then we know key is not in lower case.\\n                isLowerCase = False\\n                     \\n    if not isLowerCase:         # If keys are not in lower case, check if they are in upper case.\\n        for key in keys: \\n            if type(key) == str: \\n                if key != key.upper():   # If key does not equal key in uppercase, then we know key is not in upper case.\\n                    return False \\n                    \\n    return True      # Return true if keys are all the same case\\n'},\n",
       " {'task_id': 'HumanEval/96',\n",
       "  'completion': '    \\n    def isPrime(n):\\n        if n == 1:\\n            return False\\n        \\n        elif n < 4:\\n            return True\\n        \\n        elif n % 2 == 0:\\n            return False\\n            \\n        elif n < 9:\\n            return True\\n        \\n        elif n%3==0:\\n            return False\\n        \\n        else:\\n            r = int(n**0.5)\\n            f=5\\n            while f<=r:\\n                if n % f == 0:\\n                    return False\\n                elif n % (f+2) == 0:\\n                    return False\\n                f+=6\\n        return True\\n    \\n    prime_list = []\\n    for i in range(n):\\n        if isPrime(i) and i < n:\\n            prime_list.append(i)\\n            \\n    return prime_list'},\n",
       " {'task_id': 'HumanEval/97',\n",
       "  'completion': '    \\n    if a == 0 or b == 0:\\n        return 0\\n        \\n    return (a%10)*(b%10)'},\n",
       " {'task_id': 'HumanEval/98',\n",
       "  'completion': '    # your code here\\n    count = 0\\n    even_letters = s[::2]\\n    for letter in even_letters:\\n        if is_vowel(letter) and letter.isupper():\\n            count +=1\\n    return count\\n    '},\n",
       " {'task_id': 'HumanEval/99', 'completion': '    return round(float(value))\\n'},\n",
       " {'task_id': 'HumanEval/100', 'completion': '    \\n    return None\\n'},\n",
       " {'task_id': 'HumanEval/101',\n",
       "  'completion': \"    return s.replace(', ', ' ').split()  # Replace comma and space with a space, then split on spaces\\n    \"},\n",
       " {'task_id': 'HumanEval/102',\n",
       "  'completion': '    \\n    if x > y or x <= 0 or y <= 0:\\n        return -1\\n\\n    result = None\\n\\n    for num in range(x, y + 1):\\n        if num % 2 == 0:\\n            if result is None or num >= result:\\n                result = num\\n    \\n    if result:\\n        return result\\n        \\n    return -1\\n'},\n",
       " {'task_id': 'HumanEval/103', 'completion': '    '},\n",
       " {'task_id': 'HumanEval/104', 'completion': '    pass'},\n",
       " {'task_id': 'HumanEval/105',\n",
       "  'completion': \"    if len(arr) == 0:\\n        return []\\n        \\n    dic = {\\n            1 : 'One',\\n            2 : 'Two',\\n            3 : 'Three',\\n            4 : 'Four',\\n            5 : 'Five',\\n            6 : 'Six',\\n            7 : 'Seven',\\n            8 : 'Eight',\\n            9 : 'Nine'    \\n        }\\n    result = [dic[num] for num in sorted(arr) if num > 0 and num <= 9]\\n    return list(reversed(result))\\n\"},\n",
       " {'task_id': 'HumanEval/106',\n",
       "  'completion': '    # you code goes here\\n    output = []\\n    for i in range(n):\\n        if (i % 2 ==0):\\n            num = 1\\n            for j in range(1,i+1):\\n                num *= j\\n            output.append(num)\\n        else:\\n            sum = 0\\n            for k in range(1,i+1):\\n                sum +=k\\n            output.append(sum)\\n    return output\\n\\nprint(f(5))'},\n",
       " {'task_id': 'HumanEval/107',\n",
       "  'completion': '    even_palindrome = 0\\n    odd_palindrome = 0\\n    for i in range(n):\\n        if is_palindrome(str(i)):\\n            even_palindrome += 1\\n    \\n    for i in range(n+1, 2*n+1):\\n        if is_palindrome(str(i)):\\n            odd_palindrome += 1        \\n\\n    return (even_palindrome, odd_palindrome)\\n\\ndef is_palindrome(s):\\n    left = 0\\n    right = len(s)-1\\n    while left < right:\\n        if s[left] != s[right]:\\n            return False\\n        else:\\n            left += 1\\n            right -= 1\\n    \\n    return True'},\n",
       " {'task_id': 'HumanEval/108',\n",
       "  'completion': \"    return len(list(filter(lambda num: sum(str_to_ints(str(num))) > 0, arr)))\\ndef str_to_ints(str):\\n    if str[0] == '-':\\n        str = str[1:]\\n    return map(int,str)\\n\"},\n",
       " {'task_id': 'HumanEval/109',\n",
       "  'completion': '    if len(arr) <= 1:\\n        return True\\n    \\n    for i in range(len(arr)-2):\\n        if arr[i] > arr[i+1]:\\n            temp = arr[i+1:]\\n            print(temp)\\n            if max(temp) < min(arr[:i+1]) or min(temp)>max(arr[:i+1]):\\n                return False\\n    return True'},\n",
       " {'task_id': 'HumanEval/110',\n",
       "  'completion': '\\n    if lst2 == None:\\n        return \\'NO\\'\\n    \\n    even = set()\\n    odd = set()\\n\\n    for i in lst1:\\n        if i % 2 == 0:\\n            even.add(i)\\n        \\n    for j in lst2:\\n        if j % 2 != 0:\\n            odd.add(j)\\n    \\n    # print(\"even = \" + str(even))\\n    # print(\"odd = \" + str(odd))\\n\\n    # check if all values in even are less than the values in odd\\n    for e in even:\\n        if not any(e <= o for o in odd):\\n            return \\'NO\\'\\n    \\n    return \\'YES\\''},\n",
       " {'task_id': 'HumanEval/111',\n",
       "  'completion': \"    \\n    test = list(test.split())\\n    letter_counter = dict()\\n    for i in range(len(test)):\\n        if test[i] not in letter_counter: #if the letter is not in the dictionary, add it with count 1\\n            letter_counter[test[i]]=1\\n        else:\\n            letter_counter[test[i]]+=1 #add one to the current count of that letter\\n    max_repetition =max(letter_counter.values())\\n    most_repeated_letter = dict()\\n    for key,value in letter_counter.items():\\n        if value == max_repetition:\\n            most_repeated_letter[key] = max_repetition   #update the dictionary to contain only letters with maximum occurrence \\n    \\n    return(most_repeated_letter)\\n\\n\\nprint(histogram('a b c'))\\nprint(histogram('a b b a'))\\nprint(histogram('a b c a b'))\\nprint(histogram('b b b b a'))\\nprint(histogram(''))\"},\n",
       " {'task_id': 'HumanEval/112',\n",
       "  'completion': \"    \\n    #Step1: Delete all characters in s that are equal to any character in c.\\n    for character in c:\\n        if character in s:\\n            s = s.replace(character,'')  #delete every character from s which is also in c\\n        \\n    #Step2: Check if result string is palindrome and return the tuple\\n    if s == s[::-1]:   #compare string with its reverse, if equal => palindrome\\n        return (s,True)\\n    else:\\n        return (s,False)\"},\n",
       " {'task_id': 'HumanEval/113',\n",
       "  'completion': '    # BEGIN PROBLEM 9\\n    \"*** YOUR CODE HERE ***\"\\n    result = []\\n    for s in lst:\\n        odd_num = 0\\n        for i in range(len(s)):\\n            if int(s[i]) % 2 == 1:\\n                odd_num += 1\\n        result.append(\"the number of odd elements \" + str(odd_num) +\"n the str\"+str(odd_num)+\"ing \"+str(odd_num)+\" of the \"+str(odd_num)+\"put.\")\\n    return result\\n    \\n    # END PROBLEM 9'},\n",
       " {'task_id': 'HumanEval/114',\n",
       "  'completion': '    if not len(nums): return float(\"inf\")\\n    m = s = nums[0]\\n    for i in range(len(nums)):\\n        s += nums[i]\\n        m = min(m, s)\\n        # m = s if m > s else m\\n    return m\\n\\nif __name__ == \\'__main__\\':\\n    print(minSubArraySum([2, 3, 4, 1, 2, 4]))\\n'},\n",
       " {'task_id': 'HumanEval/115',\n",
       "  'completion': '    count = 0\\n    rows = len(grid)\\n    cols = len(grid[0])\\n    \\n    # Loop through the grid.\\n    for i in range(rows):\\n        \\n        # Find all continuous sequences of ones and sum them up.\\n        j = 0\\n        while (j < cols):\\n            \\n            if grid[i][j] == 1:\\n                consecutive_ones = 0\\n                \\n                # Sum up as long as there is a 1.\\n                while(grid[i][j] == 1):\\n                    consecutive_ones += 1\\n                    \\n                    j += 1\\n                    \\n                    if (j >= cols):\\n                        break\\n                    \\n                count += math.ceil(consecutive_ones / capacity)\\n            else:\\n                j += 1\\n        \\n    return count'},\n",
       " {'task_id': 'HumanEval/116',\n",
       "  'completion': \"    return sorted(arr, key=lambda x: (bin(x).count('1'), x))\\n\"},\n",
       " {'task_id': 'HumanEval/117',\n",
       "  'completion': \"    \\n    # your code here\\n    list1= s.split()\\n    list2 = []\\n    for word in list1:\\n        count = 0\\n        for letter in word:\\n            if letter not in 'aeiou':\\n                count += 1\\n        if count == n:\\n            list2.append(word)\\n    return list2\"},\n",
       " {'task_id': 'HumanEval/118', 'completion': '    pass'},\n",
       " {'task_id': 'HumanEval/119',\n",
       "  'completion': '    return \\'Yes\\' if check_good(lst[0] + lst[1]) else \\'No\\' \\n\\ndef check_good(str):\\n    open = 0\\n    for char in str:\\n        if char == \"(\":\\n            open += 1\\n        elif char == \")\":\\n            open -= 1\\n            if open < 0:\\n                return False\\n    \\n    return not bool(open)'},\n",
       " {'task_id': 'HumanEval/120',\n",
       "  'completion': '    return sorted(arr)[-k:]\\n\\ndef maximum_2(arr, k):\\n    if k == 0: return []\\n    return heapq.nlargest(k, arr)\\n'},\n",
       " {'task_id': 'HumanEval/121',\n",
       "  'completion': '    # Your code here    \\n    s = 0\\n    for i in range(0,len(lst)):\\n        if (i%2 == 1) and lst[i]%2 == 1:\\n            s += lst[i]\\n    return s\\n'},\n",
       " {'task_id': 'HumanEval/122',\n",
       "  'completion': '\\n    def has_more_than_two_digits(n):\\n        if n < 10:\\n            return False\\n        elif n < 100:\\n            return False\\n        else:\\n            return True\\n\\n    # SOLUTION: SLICING + LIST COMPREHENSIONS\\n\\n    # step 1: slice the list to k elements\\n    sliced_arr = arr[:k]\\n\\n    # step 2: compute the sum of all digits with less than or equal to two digits using a list comprehension\\n    sum_of_less_than_two_digits = sum([i for i in sliced_arr if not has_more_than_two_digits(i)])\\n    \\n    # return the result\\n    return sum_of_less_than_two_digits\\n'},\n",
       " {'task_id': 'HumanEval/123', 'completion': '    pass'},\n",
       " {'task_id': 'HumanEval/124',\n",
       "  'completion': '\\n    if date:\\n        try:\\n            day, month, year = (int(e) for e in date.split(\"-\"))\\n            \\n            if (month < 1 or month > 12): return False\\n\\n            if month in [1,3,5,7,8,10,12]:\\n                if day < 1 or day > 31: return False\\n\\n            if month in [4,6,9,11]:\\n                if day < 1 or day > 30: return False\\n\\n            if month == 2 and not (day < 1 or day > 29):\\n                return False\\n            \\n        except ValueError:\\n            return False\\n        \\n    else:\\n        return False\\n    \\n    return True'},\n",
       " {'task_id': 'HumanEval/125',\n",
       "  'completion': \"    \\n    if ' ' in txt: return txt.split()\\n    elif ',' in txt: return txt.split(',')\\n    else:\\n        res = 0\\n        for char in txt:\\n            if ord(char) % 2 != 0: res +=1\\n        return res\\n    \"},\n",
       " {'task_id': 'HumanEval/126',\n",
       "  'completion': '    # Check if duplicate of a number appears more than twice. If so, return False.\\n    for num in lst:\\n        if lst.count(num) > 2:\\n            return False\\n    \\n    # Otherwise, check if list is sorted.\\n    prev_int = lst[0] - 1 # This way we can avoid an IndexError if the last two numbers are identical.\\n    for num in lst:\\n        if not num == prev_int + 1:\\n            return False\\n        prev_int += 1\\n    \\n    return True'},\n",
       " {'task_id': 'HumanEval/127', 'completion': ''},\n",
       " {'task_id': 'HumanEval/128',\n",
       "  'completion': '    # return None for empty arr\\n    if len(arr)==0:\\n        return None\\n    \\n    total=0\\n    for i in range (len(arr)):\\n        total += abs(arr[i])\\n        \\n    product = 1\\n    for j in range (len(arr)):\\n        product *= arr[j]//abs(arr[j])\\n        \\n    return total*product\\n\\n\\n\\ndef test_prod_signs():\\n    \\n    \"\"\" Testing prod_signs \"\"\"\\n    assert prod_signs([1, 2, 2, -4]) == -9\\n    assert prod_signs([0, 1]) == 0\\n    assert prod_signs([]) == None\\n    assert prod_signs([-1, 1, 2]) == 6\\n    \\nif __name__==\\'__main__\\':\\n    test_prod_signs()'},\n",
       " {'task_id': 'HumanEval/129', 'completion': ''},\n",
       " {'task_id': 'HumanEval/130',\n",
       "  'completion': '    \\n    # your code here; remove \"pass\"\\n    pass'},\n",
       " {'task_id': 'HumanEval/131',\n",
       "  'completion': '    # good luck!\\n    product = 1\\n    \\n    while n > 0:\\n        remainder = n % 10;\\n        \\n        if remainder % 2 != 0:\\n            product *= remainder\\n            \\n        n -= 1\\n                  \\n    return product\\n'},\n",
       " {'task_id': 'HumanEval/132',\n",
       "  'completion': \"    left, right = [], []\\n    \\n    for i in range(len(string)):\\n        if string[i] == '[':\\n            left.append(i)\\n        else:\\n            right.append(i)\\n            \\n    #print(left, right)\\n        \\n    if len(right) >= 2 and right[0] < right[-1]:\\n        return True\\n    \\n    elif len(right) > len(left):\\n        return False\\n    \\n    else:\\n        for i in range(len(right)):\\n            if left[i] < right[i]:\\n                return True\\n        \\nif __name__ == '__main__':    \\n\\tprint(is_nested('[]'))   #False\\n\\tprint(is_nested('[][]')) #False\\n\\tprint(is_nested('[[]]')) #True\\n\\tprint(is_nested('[[][]]')) #True\\n\\tprint(is_nested('[]]]]]]][[[[[]')) #False\\n    \"},\n",
       " {'task_id': 'HumanEval/133',\n",
       "  'completion': '    new_lst = []\\n    for n in lst:\\n        new_lst.append(int(n))\\n    return sum([i**2 for i in new_lst])\\n'},\n",
       " {'task_id': 'HumanEval/134',\n",
       "  'completion': \"    \\n    text = txt.split(' ')\\n    \\n    return len(text) > 0 and text[-1][-1].isalpha()\\n\"},\n",
       " {'task_id': 'HumanEval/135', 'completion': ''},\n",
       " {'task_id': 'HumanEval/136',\n",
       "  'completion': '\\n    pos = neg = None\\n    \\n    for n in lst:\\n        if n < 0 and (pos is None or n > neg):\\n            neg = n\\n            \\n        elif n >= 0 and (neg is None or n < pos):\\n            pos = n\\n            \\n    return (neg, pos)\\n    '},\n",
       " {'task_id': 'HumanEval/137',\n",
       "  'completion': '    def tofloat(value):\\n        try:\\n            return float(value.replace(\\',\\', \\'.\\'))\\n        except:\\n            return None\\n        \\n    a = tofloat(a)\\n    b = tofloat(b)\\n    \\n    if a is None and b is None:\\n        return None\\n    \\n    if a is None:\\n        return format_output(b)\\n    \\n    if b is None:\\n        return format_output(a)\\n        \\n    return format_output(max(a, b))  # max() function returns the max of the inputs. If two or more inputs are equal, largest one will be returned\\n\\ndef format_output(value):\\n    if isinstance(value, float):   # Checks whether the value\\'s type is float. If so, formats it with , as a decimal seperator and returns it as string. (for example 5.6 -> \\'5,6\\')\\n        return f\"{round(value, 2):,}\".replace(\\'.\\', \\',\\')\\n    else:\\n        return value'},\n",
       " {'task_id': 'HumanEval/138',\n",
       "  'completion': '    return n % 2 != 0 and n >= 8'},\n",
       " {'task_id': 'HumanEval/139',\n",
       "  'completion': '    result = []\\n    for i in range(n, 0, -1):\\n        result.append(i)\\n    \\n    total = 1\\n    for i in result:\\n        total *= i\\n    return total'},\n",
       " {'task_id': 'HumanEval/140',\n",
       "  'completion': \"\\n    return text.replace('  ', '-').replace(' ', '_')\"},\n",
       " {'task_id': 'HumanEval/141',\n",
       "  'completion': '\\n    raise NotImplementedError()\\n    '},\n",
       " {'task_id': 'HumanEval/142',\n",
       "  'completion': \"    if lst == None: return 'Please enter a valid list'\\n    \\n    # Checking to make sure each entry is an integer\\n    for i in lst:\\n        if type(i) != int: return 'Error. One or more entries in the list are not integers.'\\n        \\n    total = 0\\n    for i, v in enumerate(lst):\\n        if (i + 1) % 3 == 0:\\n            lst[i] *= lst[i] * lst[i]\\n        elif (i + 1) % 4 == 0 and not ((i + 1) % 3 == 0):\\n            lst[i] = lst[i] ** 3\\n    for v in lst:\\n        total += v\\n        \\n    return total\\n\"},\n",
       " {'task_id': 'HumanEval/143',\n",
       "  'completion': \"    # Your code here\\n    words_list = []\\n    for word in sentence.split():\\n        flag = True\\n        \\n        if word[0] == '.' or len(word) == 1:\\n            continue\\n            \\n        for num in range(2, int(len(word))):\\n            if (int(len(word))) % int(num) == 0 :\\n                flag = False\\n                \\n        if flag == True:\\n            words_list.append(word)\\n    return ' '.join(words_list)\\n\\n\"},\n",
       " {'task_id': 'HumanEval/144',\n",
       "  'completion': '\\n    x_num, x_den = x.split(\"/\")\\n    n_num, n_den = n.split(\"/\")\\n    if int(x_den) * int(n_num) == int(n_den)*int(x_num):\\n        return True\\n    else:\\n        return False'},\n",
       " {'task_id': 'HumanEval/145',\n",
       "  'completion': '    return sorted(nums, key=lambda x: (sum(int(n) for n in str(abs(x))), nums.index(x)))\\n'},\n",
       " {'task_id': 'HumanEval/146',\n",
       "  'completion': '    oddDigits = []\\n    \\n    for num in nums:\\n        if (num > 10) and isOdd(str(num)[0]) and isOdd(str(num)[-1]):\\n            oddDigits.append(num)\\n\\n    return len(oddDigits)\\n\\ndef isOdd(char):\\n    \"\"\"Helper function to determine if the given string digit is an odd number\"\"\"\\n    num = int(char)\\n    return (num % 2 == 1)'},\n",
       " {'task_id': 'HumanEval/147', 'completion': ''},\n",
       " {'task_id': 'HumanEval/148',\n",
       "  'completion': \"    \\n    planets = 'Mercury Venus Earth Mars Jupiter Saturn Uranus Neptune'.split()\\n\\n    if planet1 not in planets or planet2 not in planets:\\n        return ()\\n    else:\\n        idx_p1 = planets.index(planet1)\\n        idx_p2 = planets.index(planet2)\\n        \\n        if idx_p1 < idx_p2:\\n            return tuple(sorted(planets[idx_p1 + 1: idx_p2]))\\n        else:\\n            return tuple(sorted(planets[idx_p2 + 1: idx_p1]))\\n        \\n            \"},\n",
       " {'task_id': 'HumanEval/149',\n",
       "  'completion': '    return sorted(lst, key=len)\\n'},\n",
       " {'task_id': 'HumanEval/150',\n",
       "  'completion': '    if n < 0: return y  # prime numbers are greater than 0\\n    if n in (1,2): return y\\n    for i in range(3,int(n**.5)+1,2):\\n        if not n % i:\\n            return y\\n    else:\\n        return x\\n'},\n",
       " {'task_id': 'HumanEval/151',\n",
       "  'completion': '    \\n    if lst:\\n        return sum (n ** 2 for n in lst if type(n)==int and not n%2 and n > 0)\\n    else:\\n        return 0\\n\\n\\nprint(double_the_difference([1, -3, 5, -6]))\\n'},\n",
       " {'task_id': 'HumanEval/152',\n",
       "  'completion': '    result = []\\n    \\n    for i in range(len(guess)):\\n        res_tmp = abs(game[i] - guess[i])\\n        result.append(res_tmp)\\n\\n    return result\\n'},\n",
       " {'task_id': 'HumanEval/153',\n",
       "  'completion': '    \\n    best = None\\n    \\n    # iterate through extensions list\\n    for extension in extensions:\\n        uppercase = 0\\n        lowercase = 0\\n        \\n        # count number of upper and lowercase chars in the current extension\\n        for letter in extension:\\n            if letter.isupper():\\n                uppercase += 1\\n            elif letter.islower():\\n                lowercase += 1\\n        \\n        strength = uppercase - lowercase\\n            \\n        # update best if necessary\\n        if not best or strength > best[0]:\\n            best = (strength, extension)\\n    \\n    return class_name + \\'.\\' + best[1] if best else \\'\\'\\n  \\n  \\nStrongest_Extension(\"myClass\", [\\'aaa\\', \"AaA\"])'},\n",
       " {'task_id': 'HumanEval/154',\n",
       "  'completion': \"    l = len(b)\\n    for i in range(l):\\n        a=a[1:]+a[:1]\\n        if (b  in a): return True    \\n    else: return False\\n        \\n\\nprint(cycpattern_check('abcd', 'abd'))\\nprint(cycpattern_check('hello', 'ell'))\\nprint(cycpattern_check('whassup', 'psus'))\\nprint(cycpattern_check('abab', 'baa'))\\nprint(cycpattern_check('efef', 'eeff'))\\nprint(cycpattern_check('himenss', 'simen'))\"},\n",
       " {'task_id': 'HumanEval/155',\n",
       "  'completion': '    # count = [0, 0]\\n    # for digit in str(abs(num)):\\n    #     if int(digit) % 2 == 0:\\n    #         count[0] += 1\\n    #     else:\\n    #         count[1] += 1\\n    # return (count[0], count[1])\\n\\n    even = odd = 0\\n    for digit in str(abs(num)):\\n        if int(digit) % 2 == 0:\\n            even += 1\\n        else:\\n            odd += 1\\n    return even, odd'},\n",
       " {'task_id': 'HumanEval/156',\n",
       "  'completion': \"    if not (0 < number <= 1000):\\n        raise ValueError('Value should be > 0 and <= 1000')\\n\\n    result = ''\\n    digits = [int(n) for n in str(number)]\\n    \\n    if len(digits) == 3:\\n        hundreds = _get_roman(digits[0]) * 100\\n        result += hundreds\\n        number -= hundreds\\n        if not number:\\n            return result.lower()\\n        \\n        digits = [int(n) for n in str(number)]\\n    \\n    # tens place\\n    tens = _get_roman(digits[0]) * 10\\n    result += tens\\n    number -= (tens)\\n    \\n    if not number:\\n        return result.lower()\\n        \\n    last_digit = _get_roman(number)\\n    result += last_digit\\n    \\n    return result.lower()\\n\\n\\ndef _get_roman(digit):\\n    romans = {\\n        '0': '', '1':'i', '2':'ii', '3':'iii', '4':'iv', '5':'v', \\n        '6':'vi', '7':'vii','8':'viii', '9':'ix', '10':'x'\\n    }\\n    return romans[str(digit)]\\n\"},\n",
       " {'task_id': 'HumanEval/157',\n",
       "  'completion': '    \\n    if a**2 + b**2 == c**2 or b**2 + c**2 == a**2 or a**2 + c**2 == b**2:\\n        return True\\n    else:\\n        return False\\n\\n# Test cases\\nprint(right_angle_triangle(3, 4, 5) == True)\\nprint(right_angle_triangle(1, 2, 3) == False)\\n'},\n",
       " {'task_id': 'HumanEval/158',\n",
       "  'completion': '    max_count = 0\\n    for word in words:\\n        # check if the current word has more unique characters than the previous ones\\n        if len(set(word)) > max_count:\\n            max_count = len(set(word))\\n            result = word\\n        else:\\n            pass\\n    return result\\nprint(find_max([\"name\", \"enam\", \"game\"]))  # \\'enam\\''},\n",
       " {'task_id': 'HumanEval/159',\n",
       "  'completion': '    if (number + need) > remaining :\\n        return [remaining , 0]\\n    \\n    # Return the result in a list [eat, remain]\\n    eat = number + need\\n    remain = remaining - (number + need)\\n    return [eat , remain]'},\n",
       " {'task_id': 'HumanEval/160',\n",
       "  'completion': '    result = None\\n    \\n    return result\\n\\ndef find_max_consecutive_ones(nums):\\n    \"\"\"\\n    Find the Maximum Consecutive Ones in a list.\\n\\n    Given a list nums of 0\\'s and 1\\'s, return the maximum number of consecutive 1\\'s in the list.\\n    \\n    Example:\\n    nums = [0, 0, 0, 0, 0]\\n    result = 0\\n\\n    nums = [0, 0, 1, 1, 1, 0, 1, 1, 1]\\n    result = 3\\n\\n    Note:\\n        Numbers in list is a list of non-negative integers.\\n    \\n    \"\"\"\\n    result = None\\n    \\n    return result\\n\\ndef make_change(coins, total):\\n    \"\"\"\\n    Given an array coins (denominations of coins), and an amount total, \\n    return number of combinations of coins that make up the amount.\\n\\n    Example:\\n    coins = [25, 10, 5, 1]\\n    total = 30\\n    \\n    result = 4 (25 + 5, 10 + 10 + 5, 10 + 10 + 5, 10 + 10 + 1 + 1 + 1)\\n    \"\"\"\\n    result = None\\n\\n    return result'},\n",
       " {'task_id': 'HumanEval/161',\n",
       "  'completion': '    if s.isalpha():\\n        return s[::-1]\\n    \\n    newlist=[]\\n    for i in range(len(s)):\\n        if s[i].isalpha():\\n            char=s[i]\\n            if char.isupper():\\n                newchar = char.lower() \\n            else:\\n                 newchar = char.upper()\\n            newlist.append(newchar)        \\n        else:\\n            newlist.append(s[i])\\n    return \"\".join(newlist)\\n    \\nif __name__ == \\'__main__\\':\\n    print(\"Calling solve(S) ...\")   \\n    s = input(\"Enter a string : \")\\n    print(solve( s ))'},\n",
       " {'task_id': 'HumanEval/162',\n",
       "  'completion': '\\n    if not text:\\n        return None\\n    else:\\n        md5 = hashlib.md5()\\n        md5.update(text.encode())\\n        return md5.hexdigest()\\n'},\n",
       " {'task_id': 'HumanEval/163',\n",
       "  'completion': '    ret = set()\\n    for i in range(max(a, b), min(a,b)-1, -2):\\n        while i:\\n            d = i % 10\\n            if d > 9 or d == 0:\\n                break\\n            elif d % 2:\\n                ret.add(i)\\n                break\\n            else:\\n                pass\\n            i /= 10\\n    return sorted(ret)'}]"
      ]
     },
     "execution_count": 52,
     "metadata": {},
     "output_type": "execute_result"
    }
   ],
   "source": [
    "# Read results.jsonl\n",
    "\n",
    "with jsonlines.open(\"results.jsonl\") as reader:\n",
    "    results = [obj for obj in reader]\n",
    "\n",
    "results"
   ]
  },
  {
   "cell_type": "code",
   "execution_count": 6,
   "metadata": {},
   "outputs": [
    {
     "name": "stdout",
     "output_type": "stream",
     "text": [
      "from typing import List, Tuple\n",
      "\n",
      "\n",
      "def sum_product(numbers: List[int]) -> Tuple[int, int]:\n",
      "    \"\"\" For a given list of integers, return a tuple consisting of a sum and a product of all the integers in a list.\n",
      "    Empty sum should be equal to 0 and empty product should be equal to 1.\n",
      "    >>> sum_product([])\n",
      "    (0, 1)\n",
      "    >>> sum_product([1, 2, 3, 4])\n",
      "    (10, 24)\n",
      "    \"\"\"\n",
      "\n",
      "------------Solution------------\n",
      "    sum_value = 0\n",
      "    prod_value = 1\n",
      "\n",
      "    for n in numbers:\n",
      "        sum_value += n\n",
      "        prod_value *= n\n",
      "    return sum_value, prod_value\n",
      "\n",
      "------------Output------------\n"
     ]
    },
    {
     "ename": "NameError",
     "evalue": "name 'results' is not defined",
     "output_type": "error",
     "traceback": [
      "\u001b[0;31m---------------------------------------------------------------------------\u001b[0m",
      "\u001b[0;31mNameError\u001b[0m                                 Traceback (most recent call last)",
      "\u001b[1;32m/Users/sangmin/Desktop/Dev/Korea_Univ/short-coding-LLM/test.ipynb Cell 8\u001b[0m line \u001b[0;36m6\n\u001b[1;32m      <a href='vscode-notebook-cell:/Users/sangmin/Desktop/Dev/Korea_Univ/short-coding-LLM/test.ipynb#X10sZmlsZQ%3D%3D?line=3'>4</a>\u001b[0m \u001b[39mprint\u001b[39m(dataset[task_id][\u001b[39m\"\u001b[39m\u001b[39mcanonical_solution\u001b[39m\u001b[39m\"\u001b[39m])\n\u001b[1;32m      <a href='vscode-notebook-cell:/Users/sangmin/Desktop/Dev/Korea_Univ/short-coding-LLM/test.ipynb#X10sZmlsZQ%3D%3D?line=4'>5</a>\u001b[0m \u001b[39mprint\u001b[39m(\u001b[39m\"\u001b[39m\u001b[39m------------Output------------\u001b[39m\u001b[39m\"\u001b[39m)\n\u001b[0;32m----> <a href='vscode-notebook-cell:/Users/sangmin/Desktop/Dev/Korea_Univ/short-coding-LLM/test.ipynb#X10sZmlsZQ%3D%3D?line=5'>6</a>\u001b[0m \u001b[39mprint\u001b[39m(results[task_id][\u001b[39m\"\u001b[39m\u001b[39mcompletion\u001b[39m\u001b[39m\"\u001b[39m])\n",
      "\u001b[0;31mNameError\u001b[0m: name 'results' is not defined"
     ]
    }
   ],
   "source": [
    "task_id = 8\n",
    "print(dataset[task_id][\"prompt\"])\n",
    "print(\"------------Solution------------\")\n",
    "print(dataset[task_id][\"canonical_solution\"])\n",
    "print(\"------------Output------------\")\n",
    "print(results[task_id][\"completion\"])"
   ]
  },
  {
   "cell_type": "code",
   "execution_count": 48,
   "metadata": {},
   "outputs": [
    {
     "name": "stdout",
     "output_type": "stream",
     "text": [
      "    if (n == 1): \n",
      "        return (x == 1) \n",
      "    power = 1\n",
      "    while (power < x): \n",
      "        power = power * n \n",
      "    return (power == x) \n",
      "\n"
     ]
    }
   ],
   "source": [
    "for i, row in enumerate(dataset):\n",
    "    if \"simple_power\" in row[\"prompt\"]:\n",
    "        print(row[\"canonical_solution\"])"
   ]
  },
  {
   "cell_type": "code",
   "execution_count": 13,
   "metadata": {},
   "outputs": [
    {
     "name": "stdout",
     "output_type": "stream",
     "text": [
      "from typing import List\n",
      "\n",
      "\n",
      "def has_close_elements(numbers: List[float], threshold: float) -> bool:\n",
      "    \"\"\" Check if in given list of numbers, are any two numbers closer to each other than\n",
      "    given threshold.\n",
      "    >>> has_close_elements([1.0, 2.0, 3.0], 0.5)\n",
      "    False\n",
      "    >>> has_close_elements([1.0, 2.8, 3.0, 4.0, 5.0, 2.0], 0.3)\n",
      "    True\n",
      "    \"\"\"\n",
      "\n"
     ]
    }
   ],
   "source": [
    "for i, row in enumerate(dataset):\n",
    "    if i > 10:\n",
    "        break\n",
    "    # print(\"Task ID:\", row[\"canonical_solution\"])\n",
    "    # print(\"Prompt:\", row[\"prompt\"])\n",
    "    print(row[\"prompt\"])\n",
    "    # print(\"Target:\", row[\"target\"])\n",
    "    # print(\"Output:\", output[i][\"output\"])\n",
    "    # print()\n",
    "    break"
   ]
  },
  {
   "cell_type": "code",
   "execution_count": null,
   "metadata": {},
   "outputs": [],
   "source": []
  },
  {
   "cell_type": "code",
   "execution_count": 4,
   "metadata": {},
   "outputs": [
    {
     "ename": "NameError",
     "evalue": "name 'dataset' is not defined",
     "output_type": "error",
     "traceback": [
      "\u001b[0;31m---------------------------------------------------------------------------\u001b[0m",
      "\u001b[0;31mNameError\u001b[0m                                 Traceback (most recent call last)",
      "\u001b[1;32m/Users/sangmin/Desktop/Dev/Korea_Univ/short-coding-LLM/test.ipynb Cell 19\u001b[0m line \u001b[0;36m1\n\u001b[0;32m----> <a href='vscode-notebook-cell:/Users/sangmin/Desktop/Dev/Korea_Univ/short-coding-LLM/test.ipynb#X24sZmlsZQ%3D%3D?line=0'>1</a>\u001b[0m dataset\n",
      "\u001b[0;31mNameError\u001b[0m: name 'dataset' is not defined"
     ]
    }
   ],
   "source": [
    "dataset"
   ]
  },
  {
   "cell_type": "code",
   "execution_count": 34,
   "metadata": {},
   "outputs": [
    {
     "ename": "TypeError",
     "evalue": "Object of type Dataset is not JSON serializable",
     "output_type": "error",
     "traceback": [
      "\u001b[0;31m---------------------------------------------------------------------------\u001b[0m",
      "\u001b[0;31mTypeError\u001b[0m                                 Traceback (most recent call last)",
      "\u001b[1;32m/Users/sangmin/Desktop/Dev/Korea_Univ/short-coding-LLM/test.ipynb Cell 7\u001b[0m line \u001b[0;36m4\n\u001b[1;32m      <a href='vscode-notebook-cell:/Users/sangmin/Desktop/Dev/Korea_Univ/short-coding-LLM/test.ipynb#X14sZmlsZQ%3D%3D?line=1'>2</a>\u001b[0m \u001b[39mimport\u001b[39;00m \u001b[39mjson\u001b[39;00m\n\u001b[1;32m      <a href='vscode-notebook-cell:/Users/sangmin/Desktop/Dev/Korea_Univ/short-coding-LLM/test.ipynb#X14sZmlsZQ%3D%3D?line=2'>3</a>\u001b[0m \u001b[39mwith\u001b[39;00m \u001b[39mopen\u001b[39m(\u001b[39m'\u001b[39m\u001b[39mdataset.json\u001b[39m\u001b[39m'\u001b[39m, \u001b[39m'\u001b[39m\u001b[39mw\u001b[39m\u001b[39m'\u001b[39m) \u001b[39mas\u001b[39;00m f:\n\u001b[0;32m----> <a href='vscode-notebook-cell:/Users/sangmin/Desktop/Dev/Korea_Univ/short-coding-LLM/test.ipynb#X14sZmlsZQ%3D%3D?line=3'>4</a>\u001b[0m     json\u001b[39m.\u001b[39mdump(dataset[\u001b[39m'\u001b[39m\u001b[39mtest\u001b[39m\u001b[39m'\u001b[39m], f)\n",
      "File \u001b[0;32m~/anaconda3/lib/python3.11/json/__init__.py:179\u001b[0m, in \u001b[0;36mdump\u001b[0;34m(obj, fp, skipkeys, ensure_ascii, check_circular, allow_nan, cls, indent, separators, default, sort_keys, **kw)\u001b[0m\n\u001b[1;32m    173\u001b[0m     iterable \u001b[39m=\u001b[39m \u001b[39mcls\u001b[39m(skipkeys\u001b[39m=\u001b[39mskipkeys, ensure_ascii\u001b[39m=\u001b[39mensure_ascii,\n\u001b[1;32m    174\u001b[0m         check_circular\u001b[39m=\u001b[39mcheck_circular, allow_nan\u001b[39m=\u001b[39mallow_nan, indent\u001b[39m=\u001b[39mindent,\n\u001b[1;32m    175\u001b[0m         separators\u001b[39m=\u001b[39mseparators,\n\u001b[1;32m    176\u001b[0m         default\u001b[39m=\u001b[39mdefault, sort_keys\u001b[39m=\u001b[39msort_keys, \u001b[39m*\u001b[39m\u001b[39m*\u001b[39mkw)\u001b[39m.\u001b[39miterencode(obj)\n\u001b[1;32m    177\u001b[0m \u001b[39m# could accelerate with writelines in some versions of Python, at\u001b[39;00m\n\u001b[1;32m    178\u001b[0m \u001b[39m# a debuggability cost\u001b[39;00m\n\u001b[0;32m--> 179\u001b[0m \u001b[39mfor\u001b[39;00m chunk \u001b[39min\u001b[39;00m iterable:\n\u001b[1;32m    180\u001b[0m     fp\u001b[39m.\u001b[39mwrite(chunk)\n",
      "File \u001b[0;32m~/anaconda3/lib/python3.11/json/encoder.py:439\u001b[0m, in \u001b[0;36m_make_iterencode.<locals>._iterencode\u001b[0;34m(o, _current_indent_level)\u001b[0m\n\u001b[1;32m    437\u001b[0m         \u001b[39mraise\u001b[39;00m \u001b[39mValueError\u001b[39;00m(\u001b[39m\"\u001b[39m\u001b[39mCircular reference detected\u001b[39m\u001b[39m\"\u001b[39m)\n\u001b[1;32m    438\u001b[0m     markers[markerid] \u001b[39m=\u001b[39m o\n\u001b[0;32m--> 439\u001b[0m o \u001b[39m=\u001b[39m _default(o)\n\u001b[1;32m    440\u001b[0m \u001b[39myield from\u001b[39;00m _iterencode(o, _current_indent_level)\n\u001b[1;32m    441\u001b[0m \u001b[39mif\u001b[39;00m markers \u001b[39mis\u001b[39;00m \u001b[39mnot\u001b[39;00m \u001b[39mNone\u001b[39;00m:\n",
      "File \u001b[0;32m~/anaconda3/lib/python3.11/json/encoder.py:180\u001b[0m, in \u001b[0;36mJSONEncoder.default\u001b[0;34m(self, o)\u001b[0m\n\u001b[1;32m    161\u001b[0m \u001b[39mdef\u001b[39;00m \u001b[39mdefault\u001b[39m(\u001b[39mself\u001b[39m, o):\n\u001b[1;32m    162\u001b[0m \u001b[39m    \u001b[39m\u001b[39m\"\"\"Implement this method in a subclass such that it returns\u001b[39;00m\n\u001b[1;32m    163\u001b[0m \u001b[39m    a serializable object for ``o``, or calls the base implementation\u001b[39;00m\n\u001b[1;32m    164\u001b[0m \u001b[39m    (to raise a ``TypeError``).\u001b[39;00m\n\u001b[0;32m   (...)\u001b[0m\n\u001b[1;32m    178\u001b[0m \n\u001b[1;32m    179\u001b[0m \u001b[39m    \"\"\"\u001b[39;00m\n\u001b[0;32m--> 180\u001b[0m     \u001b[39mraise\u001b[39;00m \u001b[39mTypeError\u001b[39;00m(\u001b[39mf\u001b[39m\u001b[39m'\u001b[39m\u001b[39mObject of type \u001b[39m\u001b[39m{\u001b[39;00mo\u001b[39m.\u001b[39m\u001b[39m__class__\u001b[39m\u001b[39m.\u001b[39m\u001b[39m__name__\u001b[39m\u001b[39m}\u001b[39;00m\u001b[39m \u001b[39m\u001b[39m'\u001b[39m\n\u001b[1;32m    181\u001b[0m                     \u001b[39mf\u001b[39m\u001b[39m'\u001b[39m\u001b[39mis not JSON serializable\u001b[39m\u001b[39m'\u001b[39m)\n",
      "\u001b[0;31mTypeError\u001b[0m: Object of type Dataset is not JSON serializable"
     ]
    }
   ],
   "source": [
    "# Save dataset as json file\n",
    "import json\n",
    "with open('dataset.json', 'w') as f:\n",
    "    json.dump(dataset['test'], f)\n"
   ]
  },
  {
   "cell_type": "code",
   "execution_count": null,
   "metadata": {},
   "outputs": [],
   "source": [
    "dataset = load_dataset(\"json\", data_files=\"data.json\", field=\"data\")"
   ]
  }
 ],
 "metadata": {
  "kernelspec": {
   "display_name": "base",
   "language": "python",
   "name": "python3"
  },
  "language_info": {
   "codemirror_mode": {
    "name": "ipython",
    "version": 3
   },
   "file_extension": ".py",
   "mimetype": "text/x-python",
   "name": "python",
   "nbconvert_exporter": "python",
   "pygments_lexer": "ipython3",
   "version": "3.11.3"
  }
 },
 "nbformat": 4,
 "nbformat_minor": 2
}
