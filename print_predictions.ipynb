{
 "cells": [
  {
   "cell_type": "code",
   "execution_count": 3,
   "metadata": {},
   "outputs": [],
   "source": [
    "import jsonlines"
   ]
  },
  {
   "cell_type": "code",
   "execution_count": 14,
   "metadata": {},
   "outputs": [
    {
     "name": "stdout",
     "output_type": "stream",
     "text": [
      "[Errno 2] No such file or directory: 'pass@k_eval'\n",
      "/Users/sangmin/Desktop/Dev/Korea_Univ/short-coding-LLM/pass@k_eval\n"
     ]
    }
   ],
   "source": [
    "%cd pass@k_eval/predictions"
   ]
  },
  {
   "cell_type": "code",
   "execution_count": 27,
   "metadata": {},
   "outputs": [],
   "source": [
    "experiment_name = 'instruct_baseline'\n",
    "in_path = f\"prediction_{experiment_name}.jsonl\"\n",
    "out_path = f\"prediction_{experiment_name}.txt\""
   ]
  },
  {
   "cell_type": "code",
   "execution_count": 28,
   "metadata": {},
   "outputs": [],
   "source": [
    "with jsonlines.open(in_path, \"r\") as reader:\n",
    "    with open(out_path, \"w\") as writer:\n",
    "        for obj in reader:\n",
    "            writer.write(f\"{obj['task_id']}\\n\\n\")\n",
    "            writer.write(f\"{obj['completion']}\\n\\n\")\n",
    "            writer.write('-'*50 + '\\n')"
   ]
  },
  {
   "cell_type": "code",
   "execution_count": null,
   "metadata": {},
   "outputs": [],
   "source": [
    "t"
   ]
  }
 ],
 "metadata": {
  "kernelspec": {
   "display_name": "base",
   "language": "python",
   "name": "python3"
  },
  "language_info": {
   "codemirror_mode": {
    "name": "ipython",
    "version": 3
   },
   "file_extension": ".py",
   "mimetype": "text/x-python",
   "name": "python",
   "nbconvert_exporter": "python",
   "pygments_lexer": "ipython3",
   "version": "3.11.3"
  }
 },
 "nbformat": 4,
 "nbformat_minor": 2
}
